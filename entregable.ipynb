{
 "cells": [
  {
   "cell_type": "code",
   "execution_count": 183,
   "id": "2218a0ab-73b5-40bd-a186-641fa6f27673",
   "metadata": {
    "id": "2218a0ab-73b5-40bd-a186-641fa6f27673"
   },
   "outputs": [],
   "source": [
    "import pandas as pd\n",
    "import numpy as np\n",
    "import seaborn as sns\n",
    "import matplotlib.pyplot as plt"
   ]
  },
  {
   "cell_type": "markdown",
   "id": "36a58340-df34-4f6f-8be7-24ea0c1a96be",
   "metadata": {},
   "source": [
    "# Primer Evento evaluativo de machine learning\n",
    "\n",
    "En este primer ito evaluativo se predecirán los precios casa deacuerdo a un dataset dado. Para esto se utiliza los datos que proporciona la plataforma Kaggle."
   ]
  },
  {
   "cell_type": "markdown",
   "id": "5467b13d-eebd-403d-a95e-f096a93797ac",
   "metadata": {},
   "source": [
    "## 1. Lectura y formateo\n",
    "\n",
    "Leear el dataset y estandarisar los datos e indices."
   ]
  },
  {
   "cell_type": "code",
   "execution_count": 118,
   "id": "e4851c04-781d-4370-a063-82ce052d516d",
   "metadata": {
    "colab": {
     "base_uri": "https://localhost:8080/",
     "height": 444
    },
    "id": "e4851c04-781d-4370-a063-82ce052d516d",
    "outputId": "0649dc90-f1a0-4de5-b6c7-5783433a46e9"
   },
   "outputs": [
    {
     "data": {
      "text/html": [
       "<div>\n",
       "<style scoped>\n",
       "    .dataframe tbody tr th:only-of-type {\n",
       "        vertical-align: middle;\n",
       "    }\n",
       "\n",
       "    .dataframe tbody tr th {\n",
       "        vertical-align: top;\n",
       "    }\n",
       "\n",
       "    .dataframe thead th {\n",
       "        text-align: right;\n",
       "    }\n",
       "</style>\n",
       "<table border=\"1\" class=\"dataframe\">\n",
       "  <thead>\n",
       "    <tr style=\"text-align: right;\">\n",
       "      <th></th>\n",
       "      <th>Id</th>\n",
       "      <th>MSSubClass</th>\n",
       "      <th>MSZoning</th>\n",
       "      <th>LotFrontage</th>\n",
       "      <th>LotArea</th>\n",
       "      <th>Street</th>\n",
       "      <th>Alley</th>\n",
       "      <th>LotShape</th>\n",
       "      <th>LandContour</th>\n",
       "      <th>Utilities</th>\n",
       "      <th>...</th>\n",
       "      <th>PoolArea</th>\n",
       "      <th>PoolQC</th>\n",
       "      <th>Fence</th>\n",
       "      <th>MiscFeature</th>\n",
       "      <th>MiscVal</th>\n",
       "      <th>MoSold</th>\n",
       "      <th>YrSold</th>\n",
       "      <th>SaleType</th>\n",
       "      <th>SaleCondition</th>\n",
       "      <th>SalePrice</th>\n",
       "    </tr>\n",
       "  </thead>\n",
       "  <tbody>\n",
       "    <tr>\n",
       "      <th>0</th>\n",
       "      <td>1</td>\n",
       "      <td>60</td>\n",
       "      <td>RL</td>\n",
       "      <td>65.0</td>\n",
       "      <td>8450</td>\n",
       "      <td>Pave</td>\n",
       "      <td>NaN</td>\n",
       "      <td>Reg</td>\n",
       "      <td>Lvl</td>\n",
       "      <td>AllPub</td>\n",
       "      <td>...</td>\n",
       "      <td>0</td>\n",
       "      <td>NaN</td>\n",
       "      <td>NaN</td>\n",
       "      <td>NaN</td>\n",
       "      <td>0</td>\n",
       "      <td>2</td>\n",
       "      <td>2008</td>\n",
       "      <td>WD</td>\n",
       "      <td>Normal</td>\n",
       "      <td>208500</td>\n",
       "    </tr>\n",
       "    <tr>\n",
       "      <th>1</th>\n",
       "      <td>2</td>\n",
       "      <td>20</td>\n",
       "      <td>RL</td>\n",
       "      <td>80.0</td>\n",
       "      <td>9600</td>\n",
       "      <td>Pave</td>\n",
       "      <td>NaN</td>\n",
       "      <td>Reg</td>\n",
       "      <td>Lvl</td>\n",
       "      <td>AllPub</td>\n",
       "      <td>...</td>\n",
       "      <td>0</td>\n",
       "      <td>NaN</td>\n",
       "      <td>NaN</td>\n",
       "      <td>NaN</td>\n",
       "      <td>0</td>\n",
       "      <td>5</td>\n",
       "      <td>2007</td>\n",
       "      <td>WD</td>\n",
       "      <td>Normal</td>\n",
       "      <td>181500</td>\n",
       "    </tr>\n",
       "    <tr>\n",
       "      <th>2</th>\n",
       "      <td>3</td>\n",
       "      <td>60</td>\n",
       "      <td>RL</td>\n",
       "      <td>68.0</td>\n",
       "      <td>11250</td>\n",
       "      <td>Pave</td>\n",
       "      <td>NaN</td>\n",
       "      <td>IR1</td>\n",
       "      <td>Lvl</td>\n",
       "      <td>AllPub</td>\n",
       "      <td>...</td>\n",
       "      <td>0</td>\n",
       "      <td>NaN</td>\n",
       "      <td>NaN</td>\n",
       "      <td>NaN</td>\n",
       "      <td>0</td>\n",
       "      <td>9</td>\n",
       "      <td>2008</td>\n",
       "      <td>WD</td>\n",
       "      <td>Normal</td>\n",
       "      <td>223500</td>\n",
       "    </tr>\n",
       "    <tr>\n",
       "      <th>3</th>\n",
       "      <td>4</td>\n",
       "      <td>70</td>\n",
       "      <td>RL</td>\n",
       "      <td>60.0</td>\n",
       "      <td>9550</td>\n",
       "      <td>Pave</td>\n",
       "      <td>NaN</td>\n",
       "      <td>IR1</td>\n",
       "      <td>Lvl</td>\n",
       "      <td>AllPub</td>\n",
       "      <td>...</td>\n",
       "      <td>0</td>\n",
       "      <td>NaN</td>\n",
       "      <td>NaN</td>\n",
       "      <td>NaN</td>\n",
       "      <td>0</td>\n",
       "      <td>2</td>\n",
       "      <td>2006</td>\n",
       "      <td>WD</td>\n",
       "      <td>Abnorml</td>\n",
       "      <td>140000</td>\n",
       "    </tr>\n",
       "    <tr>\n",
       "      <th>4</th>\n",
       "      <td>5</td>\n",
       "      <td>60</td>\n",
       "      <td>RL</td>\n",
       "      <td>84.0</td>\n",
       "      <td>14260</td>\n",
       "      <td>Pave</td>\n",
       "      <td>NaN</td>\n",
       "      <td>IR1</td>\n",
       "      <td>Lvl</td>\n",
       "      <td>AllPub</td>\n",
       "      <td>...</td>\n",
       "      <td>0</td>\n",
       "      <td>NaN</td>\n",
       "      <td>NaN</td>\n",
       "      <td>NaN</td>\n",
       "      <td>0</td>\n",
       "      <td>12</td>\n",
       "      <td>2008</td>\n",
       "      <td>WD</td>\n",
       "      <td>Normal</td>\n",
       "      <td>250000</td>\n",
       "    </tr>\n",
       "    <tr>\n",
       "      <th>...</th>\n",
       "      <td>...</td>\n",
       "      <td>...</td>\n",
       "      <td>...</td>\n",
       "      <td>...</td>\n",
       "      <td>...</td>\n",
       "      <td>...</td>\n",
       "      <td>...</td>\n",
       "      <td>...</td>\n",
       "      <td>...</td>\n",
       "      <td>...</td>\n",
       "      <td>...</td>\n",
       "      <td>...</td>\n",
       "      <td>...</td>\n",
       "      <td>...</td>\n",
       "      <td>...</td>\n",
       "      <td>...</td>\n",
       "      <td>...</td>\n",
       "      <td>...</td>\n",
       "      <td>...</td>\n",
       "      <td>...</td>\n",
       "      <td>...</td>\n",
       "    </tr>\n",
       "    <tr>\n",
       "      <th>1455</th>\n",
       "      <td>1456</td>\n",
       "      <td>60</td>\n",
       "      <td>RL</td>\n",
       "      <td>62.0</td>\n",
       "      <td>7917</td>\n",
       "      <td>Pave</td>\n",
       "      <td>NaN</td>\n",
       "      <td>Reg</td>\n",
       "      <td>Lvl</td>\n",
       "      <td>AllPub</td>\n",
       "      <td>...</td>\n",
       "      <td>0</td>\n",
       "      <td>NaN</td>\n",
       "      <td>NaN</td>\n",
       "      <td>NaN</td>\n",
       "      <td>0</td>\n",
       "      <td>8</td>\n",
       "      <td>2007</td>\n",
       "      <td>WD</td>\n",
       "      <td>Normal</td>\n",
       "      <td>175000</td>\n",
       "    </tr>\n",
       "    <tr>\n",
       "      <th>1456</th>\n",
       "      <td>1457</td>\n",
       "      <td>20</td>\n",
       "      <td>RL</td>\n",
       "      <td>85.0</td>\n",
       "      <td>13175</td>\n",
       "      <td>Pave</td>\n",
       "      <td>NaN</td>\n",
       "      <td>Reg</td>\n",
       "      <td>Lvl</td>\n",
       "      <td>AllPub</td>\n",
       "      <td>...</td>\n",
       "      <td>0</td>\n",
       "      <td>NaN</td>\n",
       "      <td>MnPrv</td>\n",
       "      <td>NaN</td>\n",
       "      <td>0</td>\n",
       "      <td>2</td>\n",
       "      <td>2010</td>\n",
       "      <td>WD</td>\n",
       "      <td>Normal</td>\n",
       "      <td>210000</td>\n",
       "    </tr>\n",
       "    <tr>\n",
       "      <th>1457</th>\n",
       "      <td>1458</td>\n",
       "      <td>70</td>\n",
       "      <td>RL</td>\n",
       "      <td>66.0</td>\n",
       "      <td>9042</td>\n",
       "      <td>Pave</td>\n",
       "      <td>NaN</td>\n",
       "      <td>Reg</td>\n",
       "      <td>Lvl</td>\n",
       "      <td>AllPub</td>\n",
       "      <td>...</td>\n",
       "      <td>0</td>\n",
       "      <td>NaN</td>\n",
       "      <td>GdPrv</td>\n",
       "      <td>Shed</td>\n",
       "      <td>2500</td>\n",
       "      <td>5</td>\n",
       "      <td>2010</td>\n",
       "      <td>WD</td>\n",
       "      <td>Normal</td>\n",
       "      <td>266500</td>\n",
       "    </tr>\n",
       "    <tr>\n",
       "      <th>1458</th>\n",
       "      <td>1459</td>\n",
       "      <td>20</td>\n",
       "      <td>RL</td>\n",
       "      <td>68.0</td>\n",
       "      <td>9717</td>\n",
       "      <td>Pave</td>\n",
       "      <td>NaN</td>\n",
       "      <td>Reg</td>\n",
       "      <td>Lvl</td>\n",
       "      <td>AllPub</td>\n",
       "      <td>...</td>\n",
       "      <td>0</td>\n",
       "      <td>NaN</td>\n",
       "      <td>NaN</td>\n",
       "      <td>NaN</td>\n",
       "      <td>0</td>\n",
       "      <td>4</td>\n",
       "      <td>2010</td>\n",
       "      <td>WD</td>\n",
       "      <td>Normal</td>\n",
       "      <td>142125</td>\n",
       "    </tr>\n",
       "    <tr>\n",
       "      <th>1459</th>\n",
       "      <td>1460</td>\n",
       "      <td>20</td>\n",
       "      <td>RL</td>\n",
       "      <td>75.0</td>\n",
       "      <td>9937</td>\n",
       "      <td>Pave</td>\n",
       "      <td>NaN</td>\n",
       "      <td>Reg</td>\n",
       "      <td>Lvl</td>\n",
       "      <td>AllPub</td>\n",
       "      <td>...</td>\n",
       "      <td>0</td>\n",
       "      <td>NaN</td>\n",
       "      <td>NaN</td>\n",
       "      <td>NaN</td>\n",
       "      <td>0</td>\n",
       "      <td>6</td>\n",
       "      <td>2008</td>\n",
       "      <td>WD</td>\n",
       "      <td>Normal</td>\n",
       "      <td>147500</td>\n",
       "    </tr>\n",
       "  </tbody>\n",
       "</table>\n",
       "<p>1460 rows × 81 columns</p>\n",
       "</div>"
      ],
      "text/plain": [
       "        Id  MSSubClass MSZoning  LotFrontage  LotArea Street Alley LotShape  \\\n",
       "0        1          60       RL         65.0     8450   Pave   NaN      Reg   \n",
       "1        2          20       RL         80.0     9600   Pave   NaN      Reg   \n",
       "2        3          60       RL         68.0    11250   Pave   NaN      IR1   \n",
       "3        4          70       RL         60.0     9550   Pave   NaN      IR1   \n",
       "4        5          60       RL         84.0    14260   Pave   NaN      IR1   \n",
       "...    ...         ...      ...          ...      ...    ...   ...      ...   \n",
       "1455  1456          60       RL         62.0     7917   Pave   NaN      Reg   \n",
       "1456  1457          20       RL         85.0    13175   Pave   NaN      Reg   \n",
       "1457  1458          70       RL         66.0     9042   Pave   NaN      Reg   \n",
       "1458  1459          20       RL         68.0     9717   Pave   NaN      Reg   \n",
       "1459  1460          20       RL         75.0     9937   Pave   NaN      Reg   \n",
       "\n",
       "     LandContour Utilities  ... PoolArea PoolQC  Fence MiscFeature MiscVal  \\\n",
       "0            Lvl    AllPub  ...        0    NaN    NaN         NaN       0   \n",
       "1            Lvl    AllPub  ...        0    NaN    NaN         NaN       0   \n",
       "2            Lvl    AllPub  ...        0    NaN    NaN         NaN       0   \n",
       "3            Lvl    AllPub  ...        0    NaN    NaN         NaN       0   \n",
       "4            Lvl    AllPub  ...        0    NaN    NaN         NaN       0   \n",
       "...          ...       ...  ...      ...    ...    ...         ...     ...   \n",
       "1455         Lvl    AllPub  ...        0    NaN    NaN         NaN       0   \n",
       "1456         Lvl    AllPub  ...        0    NaN  MnPrv         NaN       0   \n",
       "1457         Lvl    AllPub  ...        0    NaN  GdPrv        Shed    2500   \n",
       "1458         Lvl    AllPub  ...        0    NaN    NaN         NaN       0   \n",
       "1459         Lvl    AllPub  ...        0    NaN    NaN         NaN       0   \n",
       "\n",
       "     MoSold YrSold  SaleType  SaleCondition  SalePrice  \n",
       "0         2   2008        WD         Normal     208500  \n",
       "1         5   2007        WD         Normal     181500  \n",
       "2         9   2008        WD         Normal     223500  \n",
       "3         2   2006        WD        Abnorml     140000  \n",
       "4        12   2008        WD         Normal     250000  \n",
       "...     ...    ...       ...            ...        ...  \n",
       "1455      8   2007        WD         Normal     175000  \n",
       "1456      2   2010        WD         Normal     210000  \n",
       "1457      5   2010        WD         Normal     266500  \n",
       "1458      4   2010        WD         Normal     142125  \n",
       "1459      6   2008        WD         Normal     147500  \n",
       "\n",
       "[1460 rows x 81 columns]"
      ]
     },
     "execution_count": 118,
     "metadata": {},
     "output_type": "execute_result"
    }
   ],
   "source": [
    "df = pd.read_csv('data/train.csv')\n",
    "df"
   ]
  },
  {
   "cell_type": "code",
   "execution_count": 119,
   "id": "b4f1b7f2-7e80-465c-a330-1718b4246de3",
   "metadata": {
    "colab": {
     "base_uri": "https://localhost:8080/"
    },
    "id": "b4f1b7f2-7e80-465c-a330-1718b4246de3",
    "outputId": "5d365b4f-bbfd-4f49-8005-06a4c7e53638"
   },
   "outputs": [
    {
     "data": {
      "text/plain": [
       "Index(['id', 'mssubclass', 'mszoning', 'lotfrontage', 'lotarea', 'street',\n",
       "       'alley', 'lotshape', 'landcontour', 'utilities', 'lotconfig',\n",
       "       'landslope', 'neighborhood', 'condition1', 'condition2', 'bldgtype',\n",
       "       'housestyle', 'overallqual', 'overallcond', 'yearbuilt', 'yearremodadd',\n",
       "       'roofstyle', 'roofmatl', 'exterior1st', 'exterior2nd', 'masvnrtype',\n",
       "       'masvnrarea', 'exterqual', 'extercond', 'foundation', 'bsmtqual',\n",
       "       'bsmtcond', 'bsmtexposure', 'bsmtfintype1', 'bsmtfinsf1',\n",
       "       'bsmtfintype2', 'bsmtfinsf2', 'bsmtunfsf', 'totalbsmtsf', 'heating',\n",
       "       'heatingqc', 'centralair', 'electrical', '1stflrsf', '2ndflrsf',\n",
       "       'lowqualfinsf', 'grlivarea', 'bsmtfullbath', 'bsmthalfbath', 'fullbath',\n",
       "       'halfbath', 'bedroomabvgr', 'kitchenabvgr', 'kitchenqual',\n",
       "       'totrmsabvgrd', 'functional', 'fireplaces', 'fireplacequ', 'garagetype',\n",
       "       'garageyrblt', 'garagefinish', 'garagecars', 'garagearea', 'garagequal',\n",
       "       'garagecond', 'paveddrive', 'wooddecksf', 'openporchsf',\n",
       "       'enclosedporch', '3ssnporch', 'screenporch', 'poolarea', 'poolqc',\n",
       "       'fence', 'miscfeature', 'miscval', 'mosold', 'yrsold', 'saletype',\n",
       "       'salecondition', 'saleprice'],\n",
       "      dtype='object')"
      ]
     },
     "execution_count": 119,
     "metadata": {},
     "output_type": "execute_result"
    }
   ],
   "source": [
    "df.columns = df.columns.str.lower()\n",
    "df.columns"
   ]
  },
  {
   "cell_type": "code",
   "execution_count": 120,
   "id": "b0be7f03-5de9-46a0-9672-374faf337491",
   "metadata": {
    "colab": {
     "base_uri": "https://localhost:8080/",
     "height": 444
    },
    "id": "b0be7f03-5de9-46a0-9672-374faf337491",
    "outputId": "90f1c8db-7fe8-4fb0-f6cb-ac7fdc04a548"
   },
   "outputs": [
    {
     "data": {
      "text/html": [
       "<div>\n",
       "<style scoped>\n",
       "    .dataframe tbody tr th:only-of-type {\n",
       "        vertical-align: middle;\n",
       "    }\n",
       "\n",
       "    .dataframe tbody tr th {\n",
       "        vertical-align: top;\n",
       "    }\n",
       "\n",
       "    .dataframe thead th {\n",
       "        text-align: right;\n",
       "    }\n",
       "</style>\n",
       "<table border=\"1\" class=\"dataframe\">\n",
       "  <thead>\n",
       "    <tr style=\"text-align: right;\">\n",
       "      <th></th>\n",
       "      <th>id</th>\n",
       "      <th>mssubclass</th>\n",
       "      <th>mszoning</th>\n",
       "      <th>lotfrontage</th>\n",
       "      <th>lotarea</th>\n",
       "      <th>street</th>\n",
       "      <th>alley</th>\n",
       "      <th>lotshape</th>\n",
       "      <th>landcontour</th>\n",
       "      <th>utilities</th>\n",
       "      <th>...</th>\n",
       "      <th>poolarea</th>\n",
       "      <th>poolqc</th>\n",
       "      <th>fence</th>\n",
       "      <th>miscfeature</th>\n",
       "      <th>miscval</th>\n",
       "      <th>mosold</th>\n",
       "      <th>yrsold</th>\n",
       "      <th>saletype</th>\n",
       "      <th>salecondition</th>\n",
       "      <th>saleprice</th>\n",
       "    </tr>\n",
       "  </thead>\n",
       "  <tbody>\n",
       "    <tr>\n",
       "      <th>0</th>\n",
       "      <td>1</td>\n",
       "      <td>60</td>\n",
       "      <td>rl</td>\n",
       "      <td>65.0</td>\n",
       "      <td>8450</td>\n",
       "      <td>pave</td>\n",
       "      <td>NaN</td>\n",
       "      <td>reg</td>\n",
       "      <td>lvl</td>\n",
       "      <td>allpub</td>\n",
       "      <td>...</td>\n",
       "      <td>0</td>\n",
       "      <td>NaN</td>\n",
       "      <td>NaN</td>\n",
       "      <td>NaN</td>\n",
       "      <td>0</td>\n",
       "      <td>2</td>\n",
       "      <td>2008</td>\n",
       "      <td>wd</td>\n",
       "      <td>normal</td>\n",
       "      <td>208500</td>\n",
       "    </tr>\n",
       "    <tr>\n",
       "      <th>1</th>\n",
       "      <td>2</td>\n",
       "      <td>20</td>\n",
       "      <td>rl</td>\n",
       "      <td>80.0</td>\n",
       "      <td>9600</td>\n",
       "      <td>pave</td>\n",
       "      <td>NaN</td>\n",
       "      <td>reg</td>\n",
       "      <td>lvl</td>\n",
       "      <td>allpub</td>\n",
       "      <td>...</td>\n",
       "      <td>0</td>\n",
       "      <td>NaN</td>\n",
       "      <td>NaN</td>\n",
       "      <td>NaN</td>\n",
       "      <td>0</td>\n",
       "      <td>5</td>\n",
       "      <td>2007</td>\n",
       "      <td>wd</td>\n",
       "      <td>normal</td>\n",
       "      <td>181500</td>\n",
       "    </tr>\n",
       "    <tr>\n",
       "      <th>2</th>\n",
       "      <td>3</td>\n",
       "      <td>60</td>\n",
       "      <td>rl</td>\n",
       "      <td>68.0</td>\n",
       "      <td>11250</td>\n",
       "      <td>pave</td>\n",
       "      <td>NaN</td>\n",
       "      <td>ir1</td>\n",
       "      <td>lvl</td>\n",
       "      <td>allpub</td>\n",
       "      <td>...</td>\n",
       "      <td>0</td>\n",
       "      <td>NaN</td>\n",
       "      <td>NaN</td>\n",
       "      <td>NaN</td>\n",
       "      <td>0</td>\n",
       "      <td>9</td>\n",
       "      <td>2008</td>\n",
       "      <td>wd</td>\n",
       "      <td>normal</td>\n",
       "      <td>223500</td>\n",
       "    </tr>\n",
       "    <tr>\n",
       "      <th>3</th>\n",
       "      <td>4</td>\n",
       "      <td>70</td>\n",
       "      <td>rl</td>\n",
       "      <td>60.0</td>\n",
       "      <td>9550</td>\n",
       "      <td>pave</td>\n",
       "      <td>NaN</td>\n",
       "      <td>ir1</td>\n",
       "      <td>lvl</td>\n",
       "      <td>allpub</td>\n",
       "      <td>...</td>\n",
       "      <td>0</td>\n",
       "      <td>NaN</td>\n",
       "      <td>NaN</td>\n",
       "      <td>NaN</td>\n",
       "      <td>0</td>\n",
       "      <td>2</td>\n",
       "      <td>2006</td>\n",
       "      <td>wd</td>\n",
       "      <td>abnorml</td>\n",
       "      <td>140000</td>\n",
       "    </tr>\n",
       "    <tr>\n",
       "      <th>4</th>\n",
       "      <td>5</td>\n",
       "      <td>60</td>\n",
       "      <td>rl</td>\n",
       "      <td>84.0</td>\n",
       "      <td>14260</td>\n",
       "      <td>pave</td>\n",
       "      <td>NaN</td>\n",
       "      <td>ir1</td>\n",
       "      <td>lvl</td>\n",
       "      <td>allpub</td>\n",
       "      <td>...</td>\n",
       "      <td>0</td>\n",
       "      <td>NaN</td>\n",
       "      <td>NaN</td>\n",
       "      <td>NaN</td>\n",
       "      <td>0</td>\n",
       "      <td>12</td>\n",
       "      <td>2008</td>\n",
       "      <td>wd</td>\n",
       "      <td>normal</td>\n",
       "      <td>250000</td>\n",
       "    </tr>\n",
       "    <tr>\n",
       "      <th>...</th>\n",
       "      <td>...</td>\n",
       "      <td>...</td>\n",
       "      <td>...</td>\n",
       "      <td>...</td>\n",
       "      <td>...</td>\n",
       "      <td>...</td>\n",
       "      <td>...</td>\n",
       "      <td>...</td>\n",
       "      <td>...</td>\n",
       "      <td>...</td>\n",
       "      <td>...</td>\n",
       "      <td>...</td>\n",
       "      <td>...</td>\n",
       "      <td>...</td>\n",
       "      <td>...</td>\n",
       "      <td>...</td>\n",
       "      <td>...</td>\n",
       "      <td>...</td>\n",
       "      <td>...</td>\n",
       "      <td>...</td>\n",
       "      <td>...</td>\n",
       "    </tr>\n",
       "    <tr>\n",
       "      <th>1455</th>\n",
       "      <td>1456</td>\n",
       "      <td>60</td>\n",
       "      <td>rl</td>\n",
       "      <td>62.0</td>\n",
       "      <td>7917</td>\n",
       "      <td>pave</td>\n",
       "      <td>NaN</td>\n",
       "      <td>reg</td>\n",
       "      <td>lvl</td>\n",
       "      <td>allpub</td>\n",
       "      <td>...</td>\n",
       "      <td>0</td>\n",
       "      <td>NaN</td>\n",
       "      <td>NaN</td>\n",
       "      <td>NaN</td>\n",
       "      <td>0</td>\n",
       "      <td>8</td>\n",
       "      <td>2007</td>\n",
       "      <td>wd</td>\n",
       "      <td>normal</td>\n",
       "      <td>175000</td>\n",
       "    </tr>\n",
       "    <tr>\n",
       "      <th>1456</th>\n",
       "      <td>1457</td>\n",
       "      <td>20</td>\n",
       "      <td>rl</td>\n",
       "      <td>85.0</td>\n",
       "      <td>13175</td>\n",
       "      <td>pave</td>\n",
       "      <td>NaN</td>\n",
       "      <td>reg</td>\n",
       "      <td>lvl</td>\n",
       "      <td>allpub</td>\n",
       "      <td>...</td>\n",
       "      <td>0</td>\n",
       "      <td>NaN</td>\n",
       "      <td>mnprv</td>\n",
       "      <td>NaN</td>\n",
       "      <td>0</td>\n",
       "      <td>2</td>\n",
       "      <td>2010</td>\n",
       "      <td>wd</td>\n",
       "      <td>normal</td>\n",
       "      <td>210000</td>\n",
       "    </tr>\n",
       "    <tr>\n",
       "      <th>1457</th>\n",
       "      <td>1458</td>\n",
       "      <td>70</td>\n",
       "      <td>rl</td>\n",
       "      <td>66.0</td>\n",
       "      <td>9042</td>\n",
       "      <td>pave</td>\n",
       "      <td>NaN</td>\n",
       "      <td>reg</td>\n",
       "      <td>lvl</td>\n",
       "      <td>allpub</td>\n",
       "      <td>...</td>\n",
       "      <td>0</td>\n",
       "      <td>NaN</td>\n",
       "      <td>gdprv</td>\n",
       "      <td>shed</td>\n",
       "      <td>2500</td>\n",
       "      <td>5</td>\n",
       "      <td>2010</td>\n",
       "      <td>wd</td>\n",
       "      <td>normal</td>\n",
       "      <td>266500</td>\n",
       "    </tr>\n",
       "    <tr>\n",
       "      <th>1458</th>\n",
       "      <td>1459</td>\n",
       "      <td>20</td>\n",
       "      <td>rl</td>\n",
       "      <td>68.0</td>\n",
       "      <td>9717</td>\n",
       "      <td>pave</td>\n",
       "      <td>NaN</td>\n",
       "      <td>reg</td>\n",
       "      <td>lvl</td>\n",
       "      <td>allpub</td>\n",
       "      <td>...</td>\n",
       "      <td>0</td>\n",
       "      <td>NaN</td>\n",
       "      <td>NaN</td>\n",
       "      <td>NaN</td>\n",
       "      <td>0</td>\n",
       "      <td>4</td>\n",
       "      <td>2010</td>\n",
       "      <td>wd</td>\n",
       "      <td>normal</td>\n",
       "      <td>142125</td>\n",
       "    </tr>\n",
       "    <tr>\n",
       "      <th>1459</th>\n",
       "      <td>1460</td>\n",
       "      <td>20</td>\n",
       "      <td>rl</td>\n",
       "      <td>75.0</td>\n",
       "      <td>9937</td>\n",
       "      <td>pave</td>\n",
       "      <td>NaN</td>\n",
       "      <td>reg</td>\n",
       "      <td>lvl</td>\n",
       "      <td>allpub</td>\n",
       "      <td>...</td>\n",
       "      <td>0</td>\n",
       "      <td>NaN</td>\n",
       "      <td>NaN</td>\n",
       "      <td>NaN</td>\n",
       "      <td>0</td>\n",
       "      <td>6</td>\n",
       "      <td>2008</td>\n",
       "      <td>wd</td>\n",
       "      <td>normal</td>\n",
       "      <td>147500</td>\n",
       "    </tr>\n",
       "  </tbody>\n",
       "</table>\n",
       "<p>1460 rows × 81 columns</p>\n",
       "</div>"
      ],
      "text/plain": [
       "        id  mssubclass mszoning  lotfrontage  lotarea street alley lotshape  \\\n",
       "0        1          60       rl         65.0     8450   pave   NaN      reg   \n",
       "1        2          20       rl         80.0     9600   pave   NaN      reg   \n",
       "2        3          60       rl         68.0    11250   pave   NaN      ir1   \n",
       "3        4          70       rl         60.0     9550   pave   NaN      ir1   \n",
       "4        5          60       rl         84.0    14260   pave   NaN      ir1   \n",
       "...    ...         ...      ...          ...      ...    ...   ...      ...   \n",
       "1455  1456          60       rl         62.0     7917   pave   NaN      reg   \n",
       "1456  1457          20       rl         85.0    13175   pave   NaN      reg   \n",
       "1457  1458          70       rl         66.0     9042   pave   NaN      reg   \n",
       "1458  1459          20       rl         68.0     9717   pave   NaN      reg   \n",
       "1459  1460          20       rl         75.0     9937   pave   NaN      reg   \n",
       "\n",
       "     landcontour utilities  ... poolarea poolqc  fence miscfeature miscval  \\\n",
       "0            lvl    allpub  ...        0    NaN    NaN         NaN       0   \n",
       "1            lvl    allpub  ...        0    NaN    NaN         NaN       0   \n",
       "2            lvl    allpub  ...        0    NaN    NaN         NaN       0   \n",
       "3            lvl    allpub  ...        0    NaN    NaN         NaN       0   \n",
       "4            lvl    allpub  ...        0    NaN    NaN         NaN       0   \n",
       "...          ...       ...  ...      ...    ...    ...         ...     ...   \n",
       "1455         lvl    allpub  ...        0    NaN    NaN         NaN       0   \n",
       "1456         lvl    allpub  ...        0    NaN  mnprv         NaN       0   \n",
       "1457         lvl    allpub  ...        0    NaN  gdprv        shed    2500   \n",
       "1458         lvl    allpub  ...        0    NaN    NaN         NaN       0   \n",
       "1459         lvl    allpub  ...        0    NaN    NaN         NaN       0   \n",
       "\n",
       "     mosold yrsold  saletype  salecondition  saleprice  \n",
       "0         2   2008        wd         normal     208500  \n",
       "1         5   2007        wd         normal     181500  \n",
       "2         9   2008        wd         normal     223500  \n",
       "3         2   2006        wd        abnorml     140000  \n",
       "4        12   2008        wd         normal     250000  \n",
       "...     ...    ...       ...            ...        ...  \n",
       "1455      8   2007        wd         normal     175000  \n",
       "1456      2   2010        wd         normal     210000  \n",
       "1457      5   2010        wd         normal     266500  \n",
       "1458      4   2010        wd         normal     142125  \n",
       "1459      6   2008        wd         normal     147500  \n",
       "\n",
       "[1460 rows x 81 columns]"
      ]
     },
     "execution_count": 120,
     "metadata": {},
     "output_type": "execute_result"
    }
   ],
   "source": [
    "for i in df.columns:\n",
    "    if df[i].dtypes == 'object':\n",
    "        df[i] = df[i].str.lower()\n",
    "df"
   ]
  },
  {
   "cell_type": "markdown",
   "id": "415bbd63-c2f9-410b-b008-b7709e3d9410",
   "metadata": {},
   "source": [
    "# 2. Normalización\n",
    "\n",
    "Verifico si el dataframe tiene una distribución normal, sino, la normailizo."
   ]
  },
  {
   "cell_type": "code",
   "execution_count": 121,
   "id": "578abe29-58bf-4dcf-857c-70cfb658beb6",
   "metadata": {
    "colab": {
     "base_uri": "https://localhost:8080/",
     "height": 467
    },
    "id": "578abe29-58bf-4dcf-857c-70cfb658beb6",
    "outputId": "1e2f1d0e-9b70-4c9b-d3df-c1de6298e441"
   },
   "outputs": [
    {
     "data": {
      "text/plain": [
       "<Axes: xlabel='saleprice', ylabel='Count'>"
      ]
     },
     "execution_count": 121,
     "metadata": {},
     "output_type": "execute_result"
    },
    {
     "data": {
      "image/png": "[encoded data removed]",
      "text/plain": [
       "<Figure size 640x480 with 1 Axes>"
      ]
     },
     "metadata": {},
     "output_type": "display_data"
    }
   ],
   "source": [
    "sns.histplot(df.saleprice)"
   ]
  },
  {
   "cell_type": "code",
   "execution_count": 122,
   "id": "cb2939e5-16f5-4375-8140-ed761f3e4c41",
   "metadata": {
    "id": "cb2939e5-16f5-4375-8140-ed761f3e4c41"
   },
   "outputs": [],
   "source": [
    "price_logs = np.log1p(df.saleprice)"
   ]
  },
  {
   "cell_type": "code",
   "execution_count": 123,
   "id": "6dae9bc6-0d68-4dd2-aa30-dc7a6bcec5de",
   "metadata": {
    "colab": {
     "base_uri": "https://localhost:8080/",
     "height": 467
    },
    "id": "6dae9bc6-0d68-4dd2-aa30-dc7a6bcec5de",
    "outputId": "01b5d92e-f427-4814-a1d4-c891a05e7809"
   },
   "outputs": [
    {
     "data": {
      "text/plain": [
       "<Axes: xlabel='saleprice', ylabel='Count'>"
      ]
     },
     "execution_count": 123,
     "metadata": {},
     "output_type": "execute_result"
    },
    {
     "data": {
      "image/png": "[encoded data removed]",
      "text/plain": [
       "<Figure size 640x480 with 1 Axes>"
      ]
     },
     "metadata": {},
     "output_type": "display_data"
    }
   ],
   "source": [
    "sns.histplot(price_logs)"
   ]
  },
  {
   "cell_type": "code",
   "execution_count": 124,
   "id": "5ad20eed",
   "metadata": {
    "colab": {
     "base_uri": "https://localhost:8080/"
    },
    "id": "5ad20eed",
    "outputId": "c6b432b6-7942-4e72-a237-e366b40beb0c"
   },
   "outputs": [
    {
     "name": "stdout",
     "output_type": "stream",
     "text": [
      "755000\n",
      "34900\n"
     ]
    }
   ],
   "source": [
    "print(df.saleprice.max())\n",
    "print(df.saleprice.min())"
   ]
  },
  {
   "cell_type": "markdown",
   "id": "2b5f3e4d-b550-4eaa-b639-bcd7cd1fcf9e",
   "metadata": {},
   "source": [
    "## 3. EDA\n",
    "\n",
    "Pido excusas por el análisis exploratorio, realmente fue la parte que no entendí, intenté realizarlo creando gráficos de bigote y la matriz del coeficiente de pearson pero no sabía que hacer con la información."
   ]
  },
  {
   "cell_type": "code",
   "execution_count": 125,
   "id": "zs27O1c513r8",
   "metadata": {
    "colab": {
     "base_uri": "https://localhost:8080/",
     "height": 432
    },
    "id": "zs27O1c513r8",
    "outputId": "eabdbafd-437a-48e7-abd7-35d0c12b9203"
   },
   "outputs": [
    {
     "data": {
      "text/plain": [
       "<Axes: ylabel='saleprice'>"
      ]
     },
     "execution_count": 125,
     "metadata": {},
     "output_type": "execute_result"
    },
    {
     "data": {
      "image/png": "[encoded data removed]",
      "text/plain": [
       "<Figure size 640x480 with 1 Axes>"
      ]
     },
     "metadata": {},
     "output_type": "display_data"
    }
   ],
   "source": [
    "sns.boxplot(df.saleprice)"
   ]
  },
  {
   "cell_type": "markdown",
   "id": "8dc69ac4",
   "metadata": {
    "id": "8dc69ac4"
   },
   "source": [
    "## 4. Tratamiento de los valores faltantes\n",
    "\n",
    "Para esta sección se tuvo muy encuenta lo escrito en el archivo `data_description.txt` y las relaciones que surgián entre los datos faltantes. Por ejemplo, para las filas con poolarea = 0 no habían datos para poolqc."
   ]
  },
  {
   "cell_type": "code",
   "execution_count": 126,
   "id": "60e00319",
   "metadata": {
    "colab": {
     "base_uri": "https://localhost:8080/"
    },
    "id": "60e00319",
    "outputId": "b0b2de9b-2da5-45d5-e05a-95a50d979a0f"
   },
   "outputs": [
    {
     "name": "stdout",
     "output_type": "stream",
     "text": [
      "lotfrontage: 259\n",
      "alley: 1369\n",
      "masvnrtype: 872\n",
      "masvnrarea: 8\n",
      "bsmtqual: 37\n",
      "bsmtcond: 37\n",
      "bsmtexposure: 38\n",
      "bsmtfintype1: 37\n",
      "bsmtfintype2: 38\n",
      "electrical: 1\n",
      "fireplacequ: 690\n",
      "garagetype: 81\n",
      "garageyrblt: 81\n",
      "garagefinish: 81\n",
      "garagequal: 81\n",
      "garagecond: 81\n",
      "poolqc: 1453\n",
      "fence: 1179\n",
      "miscfeature: 1406\n",
      "19\n"
     ]
    }
   ],
   "source": [
    "def valores_nulos(df) -> None:\n",
    "    count = 0\n",
    "    for i in df.columns:\n",
    "        if df[i].isnull().sum() > 0:\n",
    "            print(f'{i}: {df[i].isnull().sum()}')\n",
    "            count += 1\n",
    "    print(count)\n",
    "valores_nulos(df)"
   ]
  },
  {
   "cell_type": "code",
   "execution_count": 127,
   "id": "HAvcWWSN2whq",
   "metadata": {
    "colab": {
     "base_uri": "https://localhost:8080/",
     "height": 467
    },
    "id": "HAvcWWSN2whq",
    "outputId": "fb533a25-be3a-4282-845e-3934c13941f3"
   },
   "outputs": [
    {
     "data": {
      "text/plain": [
       "<Axes: xlabel='lotfrontage', ylabel='Count'>"
      ]
     },
     "execution_count": 127,
     "metadata": {},
     "output_type": "execute_result"
    },
    {
     "data": {
      "image/png": "[encoded data removed]",
      "text/plain": [
       "<Figure size 640x480 with 1 Axes>"
      ]
     },
     "metadata": {},
     "output_type": "display_data"
    }
   ],
   "source": [
    "sns.histplot(df.lotfrontage)"
   ]
  },
  {
   "cell_type": "code",
   "execution_count": 128,
   "id": "eb2c7855",
   "metadata": {
    "id": "eb2c7855"
   },
   "outputs": [],
   "source": [
    "df.lotfrontage = df.lotfrontage.fillna(df.lotfrontage.mean())"
   ]
  },
  {
   "cell_type": "code",
   "execution_count": 129,
   "id": "3EMSiGZX3QQ9",
   "metadata": {
    "colab": {
     "base_uri": "https://localhost:8080/",
     "height": 467
    },
    "id": "3EMSiGZX3QQ9",
    "outputId": "d44a37ee-48bc-4d59-aecb-46c38340db7b"
   },
   "outputs": [
    {
     "data": {
      "text/plain": [
       "<Axes: xlabel='lotfrontage', ylabel='Count'>"
      ]
     },
     "execution_count": 129,
     "metadata": {},
     "output_type": "execute_result"
    },
    {
     "data": {
      "image/png": "[encoded data removed]",
      "text/plain": [
       "<Figure size 640x480 with 1 Axes>"
      ]
     },
     "metadata": {},
     "output_type": "display_data"
    }
   ],
   "source": [
    "sns.histplot(df.lotfrontage)"
   ]
  },
  {
   "cell_type": "code",
   "execution_count": 130,
   "id": "oMhQa6Vr4qGq",
   "metadata": {
    "colab": {
     "base_uri": "https://localhost:8080/"
    },
    "id": "oMhQa6Vr4qGq",
    "outputId": "0ca503eb-fdb8-4b80-8a38-40aebe23f717"
   },
   "outputs": [
    {
     "data": {
      "text/plain": [
       "array([nan, 'grvl', 'pave'], dtype=object)"
      ]
     },
     "execution_count": 130,
     "metadata": {},
     "output_type": "execute_result"
    }
   ],
   "source": [
    " df.alley.unique()"
   ]
  },
  {
   "cell_type": "code",
   "execution_count": 131,
   "id": "55bbb5e0",
   "metadata": {
    "id": "55bbb5e0"
   },
   "outputs": [],
   "source": [
    "df.alley = df.alley.fillna('na')"
   ]
  },
  {
   "cell_type": "code",
   "execution_count": 132,
   "id": "ea385ff7",
   "metadata": {
    "colab": {
     "base_uri": "https://localhost:8080/",
     "height": 430
    },
    "id": "ea385ff7",
    "outputId": "8b445c61-07e0-4d33-d267-b0fa5949d56b"
   },
   "outputs": [
    {
     "data": {
      "image/png": "[encoded data removed]",
      "text/plain": [
       "<Figure size 640x480 with 1 Axes>"
      ]
     },
     "metadata": {},
     "output_type": "display_data"
    }
   ],
   "source": [
    "plt.scatter(df.masvnrarea, df.saleprice)\n",
    "plt.show()\n",
    "del df['masvnrtype']"
   ]
  },
  {
   "cell_type": "code",
   "execution_count": 133,
   "id": "8597f1f0",
   "metadata": {
    "id": "8597f1f0"
   },
   "outputs": [],
   "source": [
    "df.masvnrarea = df.masvnrarea.fillna(df.masvnrarea.mean())"
   ]
  },
  {
   "cell_type": "code",
   "execution_count": 134,
   "id": "d9541e6f",
   "metadata": {
    "id": "d9541e6f"
   },
   "outputs": [],
   "source": [
    "df.bsmtqual = df.bsmtqual.fillna('na')\n",
    "df.bsmtcond = df.bsmtcond.fillna('na')"
   ]
  },
  {
   "cell_type": "code",
   "execution_count": 135,
   "id": "36141aa4",
   "metadata": {
    "id": "36141aa4"
   },
   "outputs": [],
   "source": [
    "df.fireplacequ = df.fireplacequ.fillna('na')"
   ]
  },
  {
   "cell_type": "code",
   "execution_count": 136,
   "id": "4d128a9c",
   "metadata": {
    "id": "4d128a9c"
   },
   "outputs": [],
   "source": [
    "df.fence = df.fence.fillna('na')"
   ]
  },
  {
   "cell_type": "code",
   "execution_count": 137,
   "id": "009355ba",
   "metadata": {
    "id": "009355ba"
   },
   "outputs": [],
   "source": [
    "del df['miscfeature']"
   ]
  },
  {
   "cell_type": "code",
   "execution_count": 138,
   "id": "50845b93",
   "metadata": {
    "id": "50845b93"
   },
   "outputs": [],
   "source": [
    "df.bsmtexposure = df.bsmtexposure.fillna('na')"
   ]
  },
  {
   "cell_type": "code",
   "execution_count": 139,
   "id": "08c80ed4",
   "metadata": {
    "id": "08c80ed4"
   },
   "outputs": [],
   "source": [
    "df[['bsmtfintype1', 'bsmtfintype2']] = df[['bsmtfintype1', 'bsmtfintype2']].fillna('na')"
   ]
  },
  {
   "cell_type": "code",
   "execution_count": 140,
   "id": "3852731e",
   "metadata": {
    "id": "3852731e"
   },
   "outputs": [],
   "source": [
    "df[['garagecond', 'garagequal', 'garagefinish', 'garageyrblt', 'garagetype']] = df[['garagecond', 'garagequal', 'garagefinish', 'garageyrblt', 'garagetype']].fillna('na')"
   ]
  },
  {
   "cell_type": "code",
   "execution_count": 141,
   "id": "aeff8516",
   "metadata": {
    "colab": {
     "base_uri": "https://localhost:8080/"
    },
    "id": "aeff8516",
    "outputId": "97b3f758-2b5e-4059-b7e1-af7b29a89364"
   },
   "outputs": [
    {
     "data": {
      "text/plain": [
       "array(['na', 'ex', 'fa', 'gd'], dtype=object)"
      ]
     },
     "execution_count": 141,
     "metadata": {},
     "output_type": "execute_result"
    }
   ],
   "source": [
    "indices_nulos = df[['poolqc', 'poolarea']][df.poolarea == 0].index\n",
    "indices_nulos\n",
    "df.loc[indices_nulos, 'poolqc'] = 'na'\n",
    "df.poolqc.unique()"
   ]
  },
  {
   "cell_type": "code",
   "execution_count": 142,
   "id": "89fce101",
   "metadata": {
    "colab": {
     "base_uri": "https://localhost:8080/",
     "height": 473
    },
    "id": "89fce101",
    "outputId": "8143d5f2-5bfc-49ae-f649-4b258bfe0f84"
   },
   "outputs": [
    {
     "data": {
      "text/plain": [
       "<Axes: xlabel='electrical', ylabel='Count'>"
      ]
     },
     "execution_count": 142,
     "metadata": {},
     "output_type": "execute_result"
    },
    {
     "data": {
      "image/png": "[encoded data removed]",
      "text/plain": [
       "<Figure size 640x480 with 1 Axes>"
      ]
     },
     "metadata": {},
     "output_type": "display_data"
    }
   ],
   "source": [
    "sns.histplot(df.electrical)"
   ]
  },
  {
   "cell_type": "code",
   "execution_count": 143,
   "id": "bb16218b",
   "metadata": {
    "id": "bb16218b"
   },
   "outputs": [],
   "source": [
    "df.electrical = df.electrical.fillna('sbrkr')"
   ]
  },
  {
   "cell_type": "code",
   "execution_count": 144,
   "id": "db44d00d",
   "metadata": {
    "id": "db44d00d"
   },
   "outputs": [],
   "source": [
    "df = df.reset_index(drop=True)"
   ]
  },
  {
   "cell_type": "code",
   "execution_count": 145,
   "id": "ec40bec4",
   "metadata": {
    "id": "ec40bec4"
   },
   "outputs": [],
   "source": [
    "# feature engeniere\n",
    "df['age'] = df.yearbuilt.max() - df.yearbuilt"
   ]
  },
  {
   "cell_type": "markdown",
   "id": "d09d820b-d8ca-41c0-bb2d-04124118f409",
   "metadata": {
    "id": "d09d820b-d8ca-41c0-bb2d-04124118f409"
   },
   "source": [
    "## 5. One hot encoding\n",
    "\n",
    "Para tratar las variables categoricas, utilicé la tecnica \"one hot encoding\". Elegí está tecnica debido a que el llenado de datos y las categorías que tienen se acomodan mejor para esta técnica. *\"el factor humano también es importante\"*"
   ]
  },
  {
   "cell_type": "code",
   "execution_count": 146,
   "id": "020f3b25-bb1b-471f-9358-0869bf2624ed",
   "metadata": {
    "id": "020f3b25-bb1b-471f-9358-0869bf2624ed"
   },
   "outputs": [],
   "source": [
    "def one_hot_encoding(dataframe):\n",
    "    df_encoded = pd.get_dummies(dataframe)\n",
    "    for i in df_encoded.columns:\n",
    "        if df_encoded[i].dtypes == 'bool':\n",
    "            df_encoded[i] = df_encoded[i].astype(int)\n",
    "    return df_encoded"
   ]
  },
  {
   "cell_type": "code",
   "execution_count": 147,
   "id": "4BmVSFkmktIl",
   "metadata": {
    "colab": {
     "base_uri": "https://localhost:8080/",
     "height": 444
    },
    "id": "4BmVSFkmktIl",
    "outputId": "dec2321b-eb9c-4afc-8410-1907fc46d088"
   },
   "outputs": [
    {
     "data": {
      "text/html": [
       "<div>\n",
       "<style scoped>\n",
       "    .dataframe tbody tr th:only-of-type {\n",
       "        vertical-align: middle;\n",
       "    }\n",
       "\n",
       "    .dataframe tbody tr th {\n",
       "        vertical-align: top;\n",
       "    }\n",
       "\n",
       "    .dataframe thead th {\n",
       "        text-align: right;\n",
       "    }\n",
       "</style>\n",
       "<table border=\"1\" class=\"dataframe\">\n",
       "  <thead>\n",
       "    <tr style=\"text-align: right;\">\n",
       "      <th></th>\n",
       "      <th>id</th>\n",
       "      <th>mssubclass</th>\n",
       "      <th>lotfrontage</th>\n",
       "      <th>lotarea</th>\n",
       "      <th>overallqual</th>\n",
       "      <th>overallcond</th>\n",
       "      <th>yearbuilt</th>\n",
       "      <th>yearremodadd</th>\n",
       "      <th>masvnrarea</th>\n",
       "      <th>bsmtfinsf1</th>\n",
       "      <th>...</th>\n",
       "      <th>saletype_cwd</th>\n",
       "      <th>saletype_new</th>\n",
       "      <th>saletype_oth</th>\n",
       "      <th>saletype_wd</th>\n",
       "      <th>salecondition_abnorml</th>\n",
       "      <th>salecondition_adjland</th>\n",
       "      <th>salecondition_alloca</th>\n",
       "      <th>salecondition_family</th>\n",
       "      <th>salecondition_normal</th>\n",
       "      <th>salecondition_partial</th>\n",
       "    </tr>\n",
       "  </thead>\n",
       "  <tbody>\n",
       "    <tr>\n",
       "      <th>0</th>\n",
       "      <td>1</td>\n",
       "      <td>60</td>\n",
       "      <td>65.0</td>\n",
       "      <td>8450</td>\n",
       "      <td>7</td>\n",
       "      <td>5</td>\n",
       "      <td>2003</td>\n",
       "      <td>2003</td>\n",
       "      <td>196.0</td>\n",
       "      <td>706</td>\n",
       "      <td>...</td>\n",
       "      <td>0</td>\n",
       "      <td>0</td>\n",
       "      <td>0</td>\n",
       "      <td>1</td>\n",
       "      <td>0</td>\n",
       "      <td>0</td>\n",
       "      <td>0</td>\n",
       "      <td>0</td>\n",
       "      <td>1</td>\n",
       "      <td>0</td>\n",
       "    </tr>\n",
       "    <tr>\n",
       "      <th>1</th>\n",
       "      <td>2</td>\n",
       "      <td>20</td>\n",
       "      <td>80.0</td>\n",
       "      <td>9600</td>\n",
       "      <td>6</td>\n",
       "      <td>8</td>\n",
       "      <td>1976</td>\n",
       "      <td>1976</td>\n",
       "      <td>0.0</td>\n",
       "      <td>978</td>\n",
       "      <td>...</td>\n",
       "      <td>0</td>\n",
       "      <td>0</td>\n",
       "      <td>0</td>\n",
       "      <td>1</td>\n",
       "      <td>0</td>\n",
       "      <td>0</td>\n",
       "      <td>0</td>\n",
       "      <td>0</td>\n",
       "      <td>1</td>\n",
       "      <td>0</td>\n",
       "    </tr>\n",
       "    <tr>\n",
       "      <th>2</th>\n",
       "      <td>3</td>\n",
       "      <td>60</td>\n",
       "      <td>68.0</td>\n",
       "      <td>11250</td>\n",
       "      <td>7</td>\n",
       "      <td>5</td>\n",
       "      <td>2001</td>\n",
       "      <td>2002</td>\n",
       "      <td>162.0</td>\n",
       "      <td>486</td>\n",
       "      <td>...</td>\n",
       "      <td>0</td>\n",
       "      <td>0</td>\n",
       "      <td>0</td>\n",
       "      <td>1</td>\n",
       "      <td>0</td>\n",
       "      <td>0</td>\n",
       "      <td>0</td>\n",
       "      <td>0</td>\n",
       "      <td>1</td>\n",
       "      <td>0</td>\n",
       "    </tr>\n",
       "    <tr>\n",
       "      <th>3</th>\n",
       "      <td>4</td>\n",
       "      <td>70</td>\n",
       "      <td>60.0</td>\n",
       "      <td>9550</td>\n",
       "      <td>7</td>\n",
       "      <td>5</td>\n",
       "      <td>1915</td>\n",
       "      <td>1970</td>\n",
       "      <td>0.0</td>\n",
       "      <td>216</td>\n",
       "      <td>...</td>\n",
       "      <td>0</td>\n",
       "      <td>0</td>\n",
       "      <td>0</td>\n",
       "      <td>1</td>\n",
       "      <td>1</td>\n",
       "      <td>0</td>\n",
       "      <td>0</td>\n",
       "      <td>0</td>\n",
       "      <td>0</td>\n",
       "      <td>0</td>\n",
       "    </tr>\n",
       "    <tr>\n",
       "      <th>4</th>\n",
       "      <td>5</td>\n",
       "      <td>60</td>\n",
       "      <td>84.0</td>\n",
       "      <td>14260</td>\n",
       "      <td>8</td>\n",
       "      <td>5</td>\n",
       "      <td>2000</td>\n",
       "      <td>2000</td>\n",
       "      <td>350.0</td>\n",
       "      <td>655</td>\n",
       "      <td>...</td>\n",
       "      <td>0</td>\n",
       "      <td>0</td>\n",
       "      <td>0</td>\n",
       "      <td>1</td>\n",
       "      <td>0</td>\n",
       "      <td>0</td>\n",
       "      <td>0</td>\n",
       "      <td>0</td>\n",
       "      <td>1</td>\n",
       "      <td>0</td>\n",
       "    </tr>\n",
       "    <tr>\n",
       "      <th>...</th>\n",
       "      <td>...</td>\n",
       "      <td>...</td>\n",
       "      <td>...</td>\n",
       "      <td>...</td>\n",
       "      <td>...</td>\n",
       "      <td>...</td>\n",
       "      <td>...</td>\n",
       "      <td>...</td>\n",
       "      <td>...</td>\n",
       "      <td>...</td>\n",
       "      <td>...</td>\n",
       "      <td>...</td>\n",
       "      <td>...</td>\n",
       "      <td>...</td>\n",
       "      <td>...</td>\n",
       "      <td>...</td>\n",
       "      <td>...</td>\n",
       "      <td>...</td>\n",
       "      <td>...</td>\n",
       "      <td>...</td>\n",
       "      <td>...</td>\n",
       "    </tr>\n",
       "    <tr>\n",
       "      <th>1455</th>\n",
       "      <td>1456</td>\n",
       "      <td>60</td>\n",
       "      <td>62.0</td>\n",
       "      <td>7917</td>\n",
       "      <td>6</td>\n",
       "      <td>5</td>\n",
       "      <td>1999</td>\n",
       "      <td>2000</td>\n",
       "      <td>0.0</td>\n",
       "      <td>0</td>\n",
       "      <td>...</td>\n",
       "      <td>0</td>\n",
       "      <td>0</td>\n",
       "      <td>0</td>\n",
       "      <td>1</td>\n",
       "      <td>0</td>\n",
       "      <td>0</td>\n",
       "      <td>0</td>\n",
       "      <td>0</td>\n",
       "      <td>1</td>\n",
       "      <td>0</td>\n",
       "    </tr>\n",
       "    <tr>\n",
       "      <th>1456</th>\n",
       "      <td>1457</td>\n",
       "      <td>20</td>\n",
       "      <td>85.0</td>\n",
       "      <td>13175</td>\n",
       "      <td>6</td>\n",
       "      <td>6</td>\n",
       "      <td>1978</td>\n",
       "      <td>1988</td>\n",
       "      <td>119.0</td>\n",
       "      <td>790</td>\n",
       "      <td>...</td>\n",
       "      <td>0</td>\n",
       "      <td>0</td>\n",
       "      <td>0</td>\n",
       "      <td>1</td>\n",
       "      <td>0</td>\n",
       "      <td>0</td>\n",
       "      <td>0</td>\n",
       "      <td>0</td>\n",
       "      <td>1</td>\n",
       "      <td>0</td>\n",
       "    </tr>\n",
       "    <tr>\n",
       "      <th>1457</th>\n",
       "      <td>1458</td>\n",
       "      <td>70</td>\n",
       "      <td>66.0</td>\n",
       "      <td>9042</td>\n",
       "      <td>7</td>\n",
       "      <td>9</td>\n",
       "      <td>1941</td>\n",
       "      <td>2006</td>\n",
       "      <td>0.0</td>\n",
       "      <td>275</td>\n",
       "      <td>...</td>\n",
       "      <td>0</td>\n",
       "      <td>0</td>\n",
       "      <td>0</td>\n",
       "      <td>1</td>\n",
       "      <td>0</td>\n",
       "      <td>0</td>\n",
       "      <td>0</td>\n",
       "      <td>0</td>\n",
       "      <td>1</td>\n",
       "      <td>0</td>\n",
       "    </tr>\n",
       "    <tr>\n",
       "      <th>1458</th>\n",
       "      <td>1459</td>\n",
       "      <td>20</td>\n",
       "      <td>68.0</td>\n",
       "      <td>9717</td>\n",
       "      <td>5</td>\n",
       "      <td>6</td>\n",
       "      <td>1950</td>\n",
       "      <td>1996</td>\n",
       "      <td>0.0</td>\n",
       "      <td>49</td>\n",
       "      <td>...</td>\n",
       "      <td>0</td>\n",
       "      <td>0</td>\n",
       "      <td>0</td>\n",
       "      <td>1</td>\n",
       "      <td>0</td>\n",
       "      <td>0</td>\n",
       "      <td>0</td>\n",
       "      <td>0</td>\n",
       "      <td>1</td>\n",
       "      <td>0</td>\n",
       "    </tr>\n",
       "    <tr>\n",
       "      <th>1459</th>\n",
       "      <td>1460</td>\n",
       "      <td>20</td>\n",
       "      <td>75.0</td>\n",
       "      <td>9937</td>\n",
       "      <td>5</td>\n",
       "      <td>6</td>\n",
       "      <td>1965</td>\n",
       "      <td>1965</td>\n",
       "      <td>0.0</td>\n",
       "      <td>830</td>\n",
       "      <td>...</td>\n",
       "      <td>0</td>\n",
       "      <td>0</td>\n",
       "      <td>0</td>\n",
       "      <td>1</td>\n",
       "      <td>0</td>\n",
       "      <td>0</td>\n",
       "      <td>0</td>\n",
       "      <td>0</td>\n",
       "      <td>1</td>\n",
       "      <td>0</td>\n",
       "    </tr>\n",
       "  </tbody>\n",
       "</table>\n",
       "<p>1460 rows × 393 columns</p>\n",
       "</div>"
      ],
      "text/plain": [
       "        id  mssubclass  lotfrontage  lotarea  overallqual  overallcond  \\\n",
       "0        1          60         65.0     8450            7            5   \n",
       "1        2          20         80.0     9600            6            8   \n",
       "2        3          60         68.0    11250            7            5   \n",
       "3        4          70         60.0     9550            7            5   \n",
       "4        5          60         84.0    14260            8            5   \n",
       "...    ...         ...          ...      ...          ...          ...   \n",
       "1455  1456          60         62.0     7917            6            5   \n",
       "1456  1457          20         85.0    13175            6            6   \n",
       "1457  1458          70         66.0     9042            7            9   \n",
       "1458  1459          20         68.0     9717            5            6   \n",
       "1459  1460          20         75.0     9937            5            6   \n",
       "\n",
       "      yearbuilt  yearremodadd  masvnrarea  bsmtfinsf1  ...  saletype_cwd  \\\n",
       "0          2003          2003       196.0         706  ...             0   \n",
       "1          1976          1976         0.0         978  ...             0   \n",
       "2          2001          2002       162.0         486  ...             0   \n",
       "3          1915          1970         0.0         216  ...             0   \n",
       "4          2000          2000       350.0         655  ...             0   \n",
       "...         ...           ...         ...         ...  ...           ...   \n",
       "1455       1999          2000         0.0           0  ...             0   \n",
       "1456       1978          1988       119.0         790  ...             0   \n",
       "1457       1941          2006         0.0         275  ...             0   \n",
       "1458       1950          1996         0.0          49  ...             0   \n",
       "1459       1965          1965         0.0         830  ...             0   \n",
       "\n",
       "      saletype_new  saletype_oth  saletype_wd  salecondition_abnorml  \\\n",
       "0                0             0            1                      0   \n",
       "1                0             0            1                      0   \n",
       "2                0             0            1                      0   \n",
       "3                0             0            1                      1   \n",
       "4                0             0            1                      0   \n",
       "...            ...           ...          ...                    ...   \n",
       "1455             0             0            1                      0   \n",
       "1456             0             0            1                      0   \n",
       "1457             0             0            1                      0   \n",
       "1458             0             0            1                      0   \n",
       "1459             0             0            1                      0   \n",
       "\n",
       "      salecondition_adjland  salecondition_alloca  salecondition_family  \\\n",
       "0                         0                     0                     0   \n",
       "1                         0                     0                     0   \n",
       "2                         0                     0                     0   \n",
       "3                         0                     0                     0   \n",
       "4                         0                     0                     0   \n",
       "...                     ...                   ...                   ...   \n",
       "1455                      0                     0                     0   \n",
       "1456                      0                     0                     0   \n",
       "1457                      0                     0                     0   \n",
       "1458                      0                     0                     0   \n",
       "1459                      0                     0                     0   \n",
       "\n",
       "      salecondition_normal  salecondition_partial  \n",
       "0                        1                      0  \n",
       "1                        1                      0  \n",
       "2                        1                      0  \n",
       "3                        0                      0  \n",
       "4                        1                      0  \n",
       "...                    ...                    ...  \n",
       "1455                     1                      0  \n",
       "1456                     1                      0  \n",
       "1457                     1                      0  \n",
       "1458                     1                      0  \n",
       "1459                     1                      0  \n",
       "\n",
       "[1460 rows x 393 columns]"
      ]
     },
     "execution_count": 147,
     "metadata": {},
     "output_type": "execute_result"
    }
   ],
   "source": [
    "df = one_hot_encoding(df)\n",
    "df"
   ]
  },
  {
   "cell_type": "markdown",
   "id": "393cbd38-5583-4388-a238-943b035ea356",
   "metadata": {
    "id": "393cbd38-5583-4388-a238-943b035ea356"
   },
   "source": [
    "## Configuración del marco de validación\n",
    "\n",
    "Se separan los datos para el entrenamiento, validación y test"
   ]
  },
  {
   "cell_type": "code",
   "execution_count": 148,
   "id": "7cd958ba-cf3d-4300-8e3b-f52af785750c",
   "metadata": {
    "colab": {
     "base_uri": "https://localhost:8080/"
    },
    "id": "7cd958ba-cf3d-4300-8e3b-f52af785750c",
    "outputId": "d034a8c8-c5c2-42a9-c740-20fb01f204dc"
   },
   "outputs": [
    {
     "name": "stdout",
     "output_type": "stream",
     "text": [
      "1460\n"
     ]
    }
   ],
   "source": [
    "n = len(df)\n",
    "print(n)\n",
    "n_val = int(n * 0.2)\n",
    "n_test = n_val\n",
    "n_train = n - (n_val + n_test)"
   ]
  },
  {
   "cell_type": "code",
   "execution_count": 149,
   "id": "db1d7cf1-6bdc-447a-b4a0-2bba35eb6140",
   "metadata": {
    "id": "db1d7cf1-6bdc-447a-b4a0-2bba35eb6140"
   },
   "outputs": [],
   "source": [
    "np.random.seed(2)\n",
    "idx = np.arange(n)\n",
    "np.random.shuffle(idx)"
   ]
  },
  {
   "cell_type": "code",
   "execution_count": 150,
   "id": "251a8c01-74e6-43bc-aef7-a03a5e7f7585",
   "metadata": {
    "id": "251a8c01-74e6-43bc-aef7-a03a5e7f7585"
   },
   "outputs": [],
   "source": [
    "df_train = df.iloc[idx[:n_train]]\n",
    "df_val = df.iloc[idx[n_train:n_train + n_val]]\n",
    "df_test = df.iloc[idx[n_train + n_val:]]"
   ]
  },
  {
   "cell_type": "code",
   "execution_count": 151,
   "id": "365f2ba2-aaad-42ad-969e-51545c407ae6",
   "metadata": {
    "colab": {
     "base_uri": "https://localhost:8080/",
     "height": 444
    },
    "id": "365f2ba2-aaad-42ad-969e-51545c407ae6",
    "outputId": "c451ca5f-1da0-40da-dbaa-81c40f13df7d"
   },
   "outputs": [
    {
     "data": {
      "text/html": [
       "<div>\n",
       "<style scoped>\n",
       "    .dataframe tbody tr th:only-of-type {\n",
       "        vertical-align: middle;\n",
       "    }\n",
       "\n",
       "    .dataframe tbody tr th {\n",
       "        vertical-align: top;\n",
       "    }\n",
       "\n",
       "    .dataframe thead th {\n",
       "        text-align: right;\n",
       "    }\n",
       "</style>\n",
       "<table border=\"1\" class=\"dataframe\">\n",
       "  <thead>\n",
       "    <tr style=\"text-align: right;\">\n",
       "      <th></th>\n",
       "      <th>id</th>\n",
       "      <th>mssubclass</th>\n",
       "      <th>lotfrontage</th>\n",
       "      <th>lotarea</th>\n",
       "      <th>overallqual</th>\n",
       "      <th>overallcond</th>\n",
       "      <th>yearbuilt</th>\n",
       "      <th>yearremodadd</th>\n",
       "      <th>masvnrarea</th>\n",
       "      <th>bsmtfinsf1</th>\n",
       "      <th>...</th>\n",
       "      <th>saletype_cwd</th>\n",
       "      <th>saletype_new</th>\n",
       "      <th>saletype_oth</th>\n",
       "      <th>saletype_wd</th>\n",
       "      <th>salecondition_abnorml</th>\n",
       "      <th>salecondition_adjland</th>\n",
       "      <th>salecondition_alloca</th>\n",
       "      <th>salecondition_family</th>\n",
       "      <th>salecondition_normal</th>\n",
       "      <th>salecondition_partial</th>\n",
       "    </tr>\n",
       "  </thead>\n",
       "  <tbody>\n",
       "    <tr>\n",
       "      <th>503</th>\n",
       "      <td>504</td>\n",
       "      <td>20</td>\n",
       "      <td>100.0</td>\n",
       "      <td>15602</td>\n",
       "      <td>7</td>\n",
       "      <td>8</td>\n",
       "      <td>1959</td>\n",
       "      <td>1997</td>\n",
       "      <td>0.0</td>\n",
       "      <td>1247</td>\n",
       "      <td>...</td>\n",
       "      <td>0</td>\n",
       "      <td>0</td>\n",
       "      <td>0</td>\n",
       "      <td>1</td>\n",
       "      <td>0</td>\n",
       "      <td>0</td>\n",
       "      <td>0</td>\n",
       "      <td>0</td>\n",
       "      <td>1</td>\n",
       "      <td>0</td>\n",
       "    </tr>\n",
       "    <tr>\n",
       "      <th>101</th>\n",
       "      <td>102</td>\n",
       "      <td>60</td>\n",
       "      <td>77.0</td>\n",
       "      <td>9206</td>\n",
       "      <td>6</td>\n",
       "      <td>5</td>\n",
       "      <td>1985</td>\n",
       "      <td>1985</td>\n",
       "      <td>336.0</td>\n",
       "      <td>0</td>\n",
       "      <td>...</td>\n",
       "      <td>0</td>\n",
       "      <td>0</td>\n",
       "      <td>0</td>\n",
       "      <td>1</td>\n",
       "      <td>0</td>\n",
       "      <td>0</td>\n",
       "      <td>0</td>\n",
       "      <td>0</td>\n",
       "      <td>1</td>\n",
       "      <td>0</td>\n",
       "    </tr>\n",
       "    <tr>\n",
       "      <th>608</th>\n",
       "      <td>609</td>\n",
       "      <td>70</td>\n",
       "      <td>78.0</td>\n",
       "      <td>12168</td>\n",
       "      <td>8</td>\n",
       "      <td>6</td>\n",
       "      <td>1934</td>\n",
       "      <td>1998</td>\n",
       "      <td>0.0</td>\n",
       "      <td>428</td>\n",
       "      <td>...</td>\n",
       "      <td>0</td>\n",
       "      <td>0</td>\n",
       "      <td>0</td>\n",
       "      <td>1</td>\n",
       "      <td>0</td>\n",
       "      <td>0</td>\n",
       "      <td>1</td>\n",
       "      <td>0</td>\n",
       "      <td>0</td>\n",
       "      <td>0</td>\n",
       "    </tr>\n",
       "    <tr>\n",
       "      <th>1089</th>\n",
       "      <td>1090</td>\n",
       "      <td>120</td>\n",
       "      <td>37.0</td>\n",
       "      <td>3316</td>\n",
       "      <td>8</td>\n",
       "      <td>5</td>\n",
       "      <td>2005</td>\n",
       "      <td>2005</td>\n",
       "      <td>0.0</td>\n",
       "      <td>1039</td>\n",
       "      <td>...</td>\n",
       "      <td>0</td>\n",
       "      <td>0</td>\n",
       "      <td>0</td>\n",
       "      <td>1</td>\n",
       "      <td>0</td>\n",
       "      <td>0</td>\n",
       "      <td>0</td>\n",
       "      <td>0</td>\n",
       "      <td>1</td>\n",
       "      <td>0</td>\n",
       "    </tr>\n",
       "    <tr>\n",
       "      <th>819</th>\n",
       "      <td>820</td>\n",
       "      <td>120</td>\n",
       "      <td>44.0</td>\n",
       "      <td>6371</td>\n",
       "      <td>7</td>\n",
       "      <td>5</td>\n",
       "      <td>2009</td>\n",
       "      <td>2010</td>\n",
       "      <td>128.0</td>\n",
       "      <td>733</td>\n",
       "      <td>...</td>\n",
       "      <td>0</td>\n",
       "      <td>1</td>\n",
       "      <td>0</td>\n",
       "      <td>0</td>\n",
       "      <td>0</td>\n",
       "      <td>0</td>\n",
       "      <td>0</td>\n",
       "      <td>0</td>\n",
       "      <td>0</td>\n",
       "      <td>1</td>\n",
       "    </tr>\n",
       "    <tr>\n",
       "      <th>...</th>\n",
       "      <td>...</td>\n",
       "      <td>...</td>\n",
       "      <td>...</td>\n",
       "      <td>...</td>\n",
       "      <td>...</td>\n",
       "      <td>...</td>\n",
       "      <td>...</td>\n",
       "      <td>...</td>\n",
       "      <td>...</td>\n",
       "      <td>...</td>\n",
       "      <td>...</td>\n",
       "      <td>...</td>\n",
       "      <td>...</td>\n",
       "      <td>...</td>\n",
       "      <td>...</td>\n",
       "      <td>...</td>\n",
       "      <td>...</td>\n",
       "      <td>...</td>\n",
       "      <td>...</td>\n",
       "      <td>...</td>\n",
       "      <td>...</td>\n",
       "    </tr>\n",
       "    <tr>\n",
       "      <th>178</th>\n",
       "      <td>179</td>\n",
       "      <td>20</td>\n",
       "      <td>63.0</td>\n",
       "      <td>17423</td>\n",
       "      <td>9</td>\n",
       "      <td>5</td>\n",
       "      <td>2008</td>\n",
       "      <td>2009</td>\n",
       "      <td>748.0</td>\n",
       "      <td>1904</td>\n",
       "      <td>...</td>\n",
       "      <td>0</td>\n",
       "      <td>1</td>\n",
       "      <td>0</td>\n",
       "      <td>0</td>\n",
       "      <td>0</td>\n",
       "      <td>0</td>\n",
       "      <td>0</td>\n",
       "      <td>0</td>\n",
       "      <td>0</td>\n",
       "      <td>1</td>\n",
       "    </tr>\n",
       "    <tr>\n",
       "      <th>176</th>\n",
       "      <td>177</td>\n",
       "      <td>60</td>\n",
       "      <td>97.0</td>\n",
       "      <td>10029</td>\n",
       "      <td>6</td>\n",
       "      <td>5</td>\n",
       "      <td>1988</td>\n",
       "      <td>1989</td>\n",
       "      <td>268.0</td>\n",
       "      <td>831</td>\n",
       "      <td>...</td>\n",
       "      <td>0</td>\n",
       "      <td>0</td>\n",
       "      <td>0</td>\n",
       "      <td>1</td>\n",
       "      <td>0</td>\n",
       "      <td>0</td>\n",
       "      <td>0</td>\n",
       "      <td>0</td>\n",
       "      <td>1</td>\n",
       "      <td>0</td>\n",
       "    </tr>\n",
       "    <tr>\n",
       "      <th>740</th>\n",
       "      <td>741</td>\n",
       "      <td>70</td>\n",
       "      <td>60.0</td>\n",
       "      <td>9600</td>\n",
       "      <td>5</td>\n",
       "      <td>7</td>\n",
       "      <td>1910</td>\n",
       "      <td>2002</td>\n",
       "      <td>0.0</td>\n",
       "      <td>0</td>\n",
       "      <td>...</td>\n",
       "      <td>0</td>\n",
       "      <td>0</td>\n",
       "      <td>0</td>\n",
       "      <td>1</td>\n",
       "      <td>1</td>\n",
       "      <td>0</td>\n",
       "      <td>0</td>\n",
       "      <td>0</td>\n",
       "      <td>0</td>\n",
       "      <td>0</td>\n",
       "    </tr>\n",
       "    <tr>\n",
       "      <th>507</th>\n",
       "      <td>508</td>\n",
       "      <td>20</td>\n",
       "      <td>75.0</td>\n",
       "      <td>7862</td>\n",
       "      <td>6</td>\n",
       "      <td>5</td>\n",
       "      <td>2009</td>\n",
       "      <td>2009</td>\n",
       "      <td>0.0</td>\n",
       "      <td>27</td>\n",
       "      <td>...</td>\n",
       "      <td>0</td>\n",
       "      <td>1</td>\n",
       "      <td>0</td>\n",
       "      <td>0</td>\n",
       "      <td>0</td>\n",
       "      <td>0</td>\n",
       "      <td>0</td>\n",
       "      <td>0</td>\n",
       "      <td>0</td>\n",
       "      <td>1</td>\n",
       "    </tr>\n",
       "    <tr>\n",
       "      <th>570</th>\n",
       "      <td>571</td>\n",
       "      <td>90</td>\n",
       "      <td>74.0</td>\n",
       "      <td>13101</td>\n",
       "      <td>5</td>\n",
       "      <td>5</td>\n",
       "      <td>1965</td>\n",
       "      <td>1965</td>\n",
       "      <td>108.0</td>\n",
       "      <td>231</td>\n",
       "      <td>...</td>\n",
       "      <td>0</td>\n",
       "      <td>0</td>\n",
       "      <td>0</td>\n",
       "      <td>1</td>\n",
       "      <td>0</td>\n",
       "      <td>0</td>\n",
       "      <td>0</td>\n",
       "      <td>0</td>\n",
       "      <td>1</td>\n",
       "      <td>0</td>\n",
       "    </tr>\n",
       "  </tbody>\n",
       "</table>\n",
       "<p>876 rows × 393 columns</p>\n",
       "</div>"
      ],
      "text/plain": [
       "        id  mssubclass  lotfrontage  lotarea  overallqual  overallcond  \\\n",
       "503    504          20        100.0    15602            7            8   \n",
       "101    102          60         77.0     9206            6            5   \n",
       "608    609          70         78.0    12168            8            6   \n",
       "1089  1090         120         37.0     3316            8            5   \n",
       "819    820         120         44.0     6371            7            5   \n",
       "...    ...         ...          ...      ...          ...          ...   \n",
       "178    179          20         63.0    17423            9            5   \n",
       "176    177          60         97.0    10029            6            5   \n",
       "740    741          70         60.0     9600            5            7   \n",
       "507    508          20         75.0     7862            6            5   \n",
       "570    571          90         74.0    13101            5            5   \n",
       "\n",
       "      yearbuilt  yearremodadd  masvnrarea  bsmtfinsf1  ...  saletype_cwd  \\\n",
       "503        1959          1997         0.0        1247  ...             0   \n",
       "101        1985          1985       336.0           0  ...             0   \n",
       "608        1934          1998         0.0         428  ...             0   \n",
       "1089       2005          2005         0.0        1039  ...             0   \n",
       "819        2009          2010       128.0         733  ...             0   \n",
       "...         ...           ...         ...         ...  ...           ...   \n",
       "178        2008          2009       748.0        1904  ...             0   \n",
       "176        1988          1989       268.0         831  ...             0   \n",
       "740        1910          2002         0.0           0  ...             0   \n",
       "507        2009          2009         0.0          27  ...             0   \n",
       "570        1965          1965       108.0         231  ...             0   \n",
       "\n",
       "      saletype_new  saletype_oth  saletype_wd  salecondition_abnorml  \\\n",
       "503              0             0            1                      0   \n",
       "101              0             0            1                      0   \n",
       "608              0             0            1                      0   \n",
       "1089             0             0            1                      0   \n",
       "819              1             0            0                      0   \n",
       "...            ...           ...          ...                    ...   \n",
       "178              1             0            0                      0   \n",
       "176              0             0            1                      0   \n",
       "740              0             0            1                      1   \n",
       "507              1             0            0                      0   \n",
       "570              0             0            1                      0   \n",
       "\n",
       "      salecondition_adjland  salecondition_alloca  salecondition_family  \\\n",
       "503                       0                     0                     0   \n",
       "101                       0                     0                     0   \n",
       "608                       0                     1                     0   \n",
       "1089                      0                     0                     0   \n",
       "819                       0                     0                     0   \n",
       "...                     ...                   ...                   ...   \n",
       "178                       0                     0                     0   \n",
       "176                       0                     0                     0   \n",
       "740                       0                     0                     0   \n",
       "507                       0                     0                     0   \n",
       "570                       0                     0                     0   \n",
       "\n",
       "      salecondition_normal  salecondition_partial  \n",
       "503                      1                      0  \n",
       "101                      1                      0  \n",
       "608                      0                      0  \n",
       "1089                     1                      0  \n",
       "819                      0                      1  \n",
       "...                    ...                    ...  \n",
       "178                      0                      1  \n",
       "176                      1                      0  \n",
       "740                      0                      0  \n",
       "507                      0                      1  \n",
       "570                      1                      0  \n",
       "\n",
       "[876 rows x 393 columns]"
      ]
     },
     "execution_count": 151,
     "metadata": {},
     "output_type": "execute_result"
    }
   ],
   "source": [
    "df_train"
   ]
  },
  {
   "cell_type": "code",
   "execution_count": 152,
   "id": "1562281f-893b-4f76-901a-3b4ec3da31d3",
   "metadata": {
    "colab": {
     "base_uri": "https://localhost:8080/"
    },
    "id": "1562281f-893b-4f76-901a-3b4ec3da31d3",
    "outputId": "b99a95bc-1cb3-4bad-d73f-d54dfbebb04d"
   },
   "outputs": [
    {
     "data": {
      "text/plain": [
       "(876, 292, 292)"
      ]
     },
     "execution_count": 152,
     "metadata": {},
     "output_type": "execute_result"
    }
   ],
   "source": [
    "assert len(df_train) + len(df_val) + len(df_test) == len(df)\n",
    "len(df_train), len(df_val), len(df_test)"
   ]
  },
  {
   "cell_type": "code",
   "execution_count": 153,
   "id": "e097e0ab-e87a-4cff-94c2-05450f598a13",
   "metadata": {
    "id": "e097e0ab-e87a-4cff-94c2-05450f598a13"
   },
   "outputs": [],
   "source": [
    "df_train = df_train.reset_index(drop=True)\n",
    "df_val = df_val.reset_index(drop=True)\n",
    "df_test = df_test.reset_index(drop=True)"
   ]
  },
  {
   "cell_type": "code",
   "execution_count": 154,
   "id": "d4039a1b-f247-423e-ac6a-21b9cd61a238",
   "metadata": {
    "id": "d4039a1b-f247-423e-ac6a-21b9cd61a238"
   },
   "outputs": [],
   "source": [
    "y_train = np.log1p(df_train.saleprice.values)\n",
    "y_val = np.log1p(df_val.saleprice.values)\n",
    "y_test = np.log1p(df_test.saleprice.values)"
   ]
  },
  {
   "cell_type": "code",
   "execution_count": 155,
   "id": "8220e6db-568a-4f05-b6f8-4f836737203a",
   "metadata": {
    "id": "8220e6db-568a-4f05-b6f8-4f836737203a"
   },
   "outputs": [],
   "source": [
    "del df_train['saleprice']\n",
    "del df_val['saleprice']\n",
    "del df_test['saleprice']"
   ]
  },
  {
   "cell_type": "code",
   "execution_count": 156,
   "id": "fa3677f6-7e80-4cf9-940f-244d16dc2b0a",
   "metadata": {
    "colab": {
     "base_uri": "https://localhost:8080/"
    },
    "id": "fa3677f6-7e80-4cf9-940f-244d16dc2b0a",
    "outputId": "05130429-2550-4000-ac3b-90e676115e5f"
   },
   "outputs": [
    {
     "data": {
      "text/plain": [
       "876"
      ]
     },
     "execution_count": 156,
     "metadata": {},
     "output_type": "execute_result"
    }
   ],
   "source": [
    "len(y_train)"
   ]
  },
  {
   "cell_type": "markdown",
   "id": "6ec09d05-45cc-425b-962f-1adf704bc9b3",
   "metadata": {
    "id": "6ec09d05-45cc-425b-962f-1adf704bc9b3"
   },
   "source": [
    "## Entramiento de la regresión lineal"
   ]
  },
  {
   "cell_type": "markdown",
   "id": "ad39dcd3-e38e-4b7c-8bd7-cb6ee5648bcb",
   "metadata": {},
   "source": [
    "### Parámetros de validación\n",
    "\n",
    "Creación de las funciones con las que el modelo será evaludo para medir su efectividad"
   ]
  },
  {
   "cell_type": "markdown",
   "id": "b7df463a-db1f-47df-87ab-a9f6aff681a5",
   "metadata": {
    "id": "b7df463a-db1f-47df-87ab-a9f6aff681a5"
   },
   "source": [
    "## RMSE"
   ]
  },
  {
   "cell_type": "code",
   "execution_count": 163,
   "id": "64b541be-8cd4-4d10-895f-637b2df19ee0",
   "metadata": {
    "id": "64b541be-8cd4-4d10-895f-637b2df19ee0"
   },
   "outputs": [],
   "source": [
    "def rmse(y, y_pred):\n",
    "    error = 0\n",
    "    for i in range(len(y)):\n",
    "        error += (y[i] - y_pred[i]) ** 2\n",
    "    error = np.sqrt(error) / len(y)\n",
    "    return error"
   ]
  },
  {
   "cell_type": "markdown",
   "id": "GYNMg2hbmVAC",
   "metadata": {
    "id": "GYNMg2hbmVAC"
   },
   "source": [
    "## MAPE"
   ]
  },
  {
   "cell_type": "code",
   "execution_count": 164,
   "id": "SpB63dwEmXwC",
   "metadata": {
    "id": "SpB63dwEmXwC"
   },
   "outputs": [],
   "source": [
    "def mape(y, y_pred):\n",
    "    return np.mean(np.abs((y - y_pred) / y)) * 100"
   ]
  },
  {
   "cell_type": "markdown",
   "id": "xOhNh8ShpSAn",
   "metadata": {
    "id": "xOhNh8ShpSAn"
   },
   "source": [
    "## R-cuadrado"
   ]
  },
  {
   "cell_type": "code",
   "execution_count": 165,
   "id": "FIYrigkypUqa",
   "metadata": {
    "id": "FIYrigkypUqa"
   },
   "outputs": [],
   "source": [
    "def r2_score(y, y_pred):\n",
    "    ss_res = np.sum((y - y_pred) ** 2)\n",
    "    ss_tot = np.sum((y - np.mean(y)) ** 2)\n",
    "    return 1 - (ss_res / ss_tot)"
   ]
  },
  {
   "cell_type": "markdown",
   "id": "442c2a08-faa6-49f3-a0b3-58b1d4960c0a",
   "metadata": {
    "id": "442c2a08-faa6-49f3-a0b3-58b1d4960c0a"
   },
   "source": [
    "# Validación del modelo\n",
    "\n",
    "Ejemplo de como se debe evaluar el modelo despues de entrenado"
   ]
  },
  {
   "cell_type": "code",
   "execution_count": 166,
   "id": "cbb387a1-a7a5-47e8-853a-a330b4096965",
   "metadata": {
    "id": "cbb387a1-a7a5-47e8-853a-a330b4096965"
   },
   "outputs": [],
   "source": [
    "X_train = prepare_X(df_train)\n",
    "# w0, w = train_linear_regression(X_train, y_train) matriz singular\n",
    "\n",
    "X_val = prepare_X(df_val)\n",
    "#y_pred = w0 + X_val.dot(w)\n",
    "\n",
    "#rmse(y_val, y_pred)"
   ]
  },
  {
   "cell_type": "code",
   "execution_count": 167,
   "id": "5aaee215-68a9-49df-81e6-ed60742081f4",
   "metadata": {
    "id": "5aaee215-68a9-49df-81e6-ed60742081f4"
   },
   "outputs": [],
   "source": [
    "def prepare_X(df):\n",
    "    return df.values"
   ]
  },
  {
   "cell_type": "code",
   "execution_count": 168,
   "id": "ae3a0890-30c9-44dd-a981-40de95077a2e",
   "metadata": {
    "colab": {
     "base_uri": "https://localhost:8080/"
    },
    "id": "ae3a0890-30c9-44dd-a981-40de95077a2e",
    "outputId": "2ad0b3e6-b577-41a1-d5ab-b7a231812572"
   },
   "outputs": [
    {
     "data": {
      "text/plain": [
       "array([[504.,  20., 100., ...,   0.,   1.,   0.],\n",
       "       [102.,  60.,  77., ...,   0.,   1.,   0.],\n",
       "       [609.,  70.,  78., ...,   0.,   0.,   0.],\n",
       "       ...,\n",
       "       [741.,  70.,  60., ...,   0.,   0.,   0.],\n",
       "       [508.,  20.,  75., ...,   0.,   0.,   1.],\n",
       "       [571.,  90.,  74., ...,   0.,   1.,   0.]])"
      ]
     },
     "execution_count": 168,
     "metadata": {},
     "output_type": "execute_result"
    }
   ],
   "source": [
    "X_train = prepare_X(df_train)\n",
    "X_train"
   ]
  },
  {
   "cell_type": "markdown",
   "id": "5f556061-d21f-4122-a9bd-7735fc09ee93",
   "metadata": {},
   "source": [
    "Definición de la función de entrenamiento\n",
    "\n",
    "*esta definición fue hecha y demostrada en clase*"
   ]
  },
  {
   "cell_type": "code",
   "execution_count": 169,
   "id": "96d215b9-6536-40ad-a5e2-8529a1870686",
   "metadata": {
    "id": "96d215b9-6536-40ad-a5e2-8529a1870686"
   },
   "outputs": [],
   "source": [
    "def train_linear_regression(X, y, r=0.001):\n",
    "    x = X.copy()\n",
    "    ones = np.ones(x.shape[0])\n",
    "    x = np.column_stack([ones, x])\n",
    "    xtx = x.T.dot(x)\n",
    "    xtx = xtx + (r * np.eye(xtx.shape[0]))\n",
    "    xtx_inv = np.linalg.inv(xtx)\n",
    "    w_full = xtx_inv.dot(x.T).dot(y)\n",
    "    return w_full[0], w_full[1:]"
   ]
  },
  {
   "cell_type": "code",
   "execution_count": 170,
   "id": "dd2fe170-5eff-4a1b-9b86-68ff558dbf9b",
   "metadata": {
    "id": "dd2fe170-5eff-4a1b-9b86-68ff558dbf9b"
   },
   "outputs": [],
   "source": [
    "X_train = prepare_X(df_train)"
   ]
  },
  {
   "cell_type": "code",
   "execution_count": 171,
   "id": "e447c0bb-ba55-4258-9fe3-44472ff3b596",
   "metadata": {
    "colab": {
     "base_uri": "https://localhost:8080/"
    },
    "id": "e447c0bb-ba55-4258-9fe3-44472ff3b596",
    "outputId": "087c1c68-b47c-4eaa-9125-742ff2668614",
    "scrolled": true
   },
   "outputs": [
    {
     "data": {
      "text/plain": [
       "(np.float64(0.7045887356218898),\n",
       " array([-9.55755868e-06, -3.65845727e-04,  5.08139735e-04,  1.07338688e-06,\n",
       "         4.89911479e-02,  4.08881331e-02,  5.47428438e-03, -1.26380481e-04,\n",
       "         4.56229694e-05,  2.33135635e-05,  7.88461465e-05, -2.23442836e-05,\n",
       "         8.43503721e-05,  1.14009576e-04,  1.08048928e-04, -1.42008561e-04,\n",
       "         7.31563225e-05,  3.20887153e-02, -5.92911956e-03,  3.56240797e-02,\n",
       "         1.48223179e-02, -6.34737604e-03, -1.27076509e-01,  1.11289802e-02,\n",
       "         1.76721654e-02,  1.06776735e-02,  1.58729940e-04,  8.18956820e-05,\n",
       "         4.70157450e-05,  1.58852894e-04,  1.51242004e-04,  1.97803934e-04,\n",
       "         1.15270582e-03, -1.71664403e-06, -1.70792578e-03, -8.53873233e-04,\n",
       "         4.43489949e-03, -3.29376092e-01,  9.46968071e-02,  9.75016029e-02,\n",
       "         8.51038362e-02,  5.20787791e-02,  2.23749949e-03, -2.23257829e-03,\n",
       "        -7.34790343e-04, -4.73780645e-03,  5.47750665e-03, -3.68076629e-02,\n",
       "        -1.32743181e-02,  7.00716536e-02, -1.99847422e-02, -4.27166120e-02,\n",
       "         1.72681881e-02,  1.36820500e-02,  1.17712937e-02,  4.92625591e-06,\n",
       "         0.00000000e+00,  2.64735527e-02,  6.55177701e-02, -4.03505698e-02,\n",
       "        -5.04498627e-02, -1.18595606e-03, -1.04189088e-02,  4.90309864e-02,\n",
       "        -3.86072201e-02,  1.55110800e-02, -4.19673599e-02, -7.49742833e-02,\n",
       "         2.72382516e-02,  2.65520882e-02,  1.23700905e-03,  1.34721287e-01,\n",
       "        -6.85134249e-02, -5.40621858e-03, -8.56806228e-02, -2.10193596e-01,\n",
       "        -6.74406804e-02, -6.30772502e-02,  8.16053760e-02,  7.76666460e-03,\n",
       "         9.28800564e-02, -2.76293473e-02, -6.90726721e-02, -4.27796139e-02,\n",
       "         5.13329282e-02,  5.11903423e-02,  1.77003332e-01,  5.44047442e-02,\n",
       "         6.79482443e-03,  2.85358880e-02, -3.25271667e-02, -2.07163116e-02,\n",
       "         3.14950866e-02, -1.09981642e-02,  4.81516985e-02, -6.56311470e-02,\n",
       "         3.05475205e-02, -2.63885731e-02,  4.60719338e-02,  1.91752340e-01,\n",
       "        -1.56494964e-02,  2.43972671e-01,  0.00000000e+00, -5.66247209e-01,\n",
       "         1.46324271e-01,  0.00000000e+00,  0.00000000e+00, -1.39200815e-02,\n",
       "         3.33694237e-02,  6.95983479e-02, -5.96392965e-02, -2.94034267e-02,\n",
       "         8.78237983e-03, -2.81369128e-02, -1.14324116e-02, -5.08021770e-02,\n",
       "         9.09486892e-02, -1.21514139e-02, -1.37121015e-02,  1.65090023e-02,\n",
       "        -2.18850245e-02, -2.83506975e-02, -6.44227886e-02, -1.79472292e-02,\n",
       "         3.71312684e-02,  9.54593191e-02, -2.13121133e+00,  3.29092665e-01,\n",
       "         4.08302675e-01,  3.15652810e-01,  0.00000000e+00,  3.30628038e-01,\n",
       "         3.42940402e-01,  4.04779105e-01, -7.12750663e-02,  0.00000000e+00,\n",
       "         0.00000000e+00,  1.37711733e-01, -3.49761205e-03, -1.97310536e-01,\n",
       "         3.30307875e-02, -7.27406401e-03,  6.33027314e-02,  3.63984975e-02,\n",
       "         0.00000000e+00,  8.37705918e-03,  3.78156054e-02, -5.29689340e-02,\n",
       "         1.54480279e-02, -3.73094306e-02,  2.09705639e-01, -5.68339003e-02,\n",
       "        -9.77520383e-02, -3.23427659e-03,  2.71831186e-01, -2.43232622e-02,\n",
       "        -1.71086061e-02, -3.08378027e-02, -9.20484664e-02, -1.41577695e-02,\n",
       "        -7.87730338e-02, -3.13452373e-02, -3.28621997e-02,  6.43443964e-02,\n",
       "        -2.85298451e-02, -3.00622257e-02, -2.92704368e-02,  2.36755717e-02,\n",
       "         3.56619361e-02,  1.04553705e-01, -2.74761149e-02, -3.86220766e-02,\n",
       "        -2.11481424e-02, -1.74222628e-02,  9.99000378e-03,  4.96363692e-02,\n",
       "         6.58534613e-02, -1.88652895e-02,  1.24955196e-01, -2.31556207e-01,\n",
       "         7.92041568e-03,  2.16566355e-02, -3.60801489e-02,  2.09997727e-02,\n",
       "        -1.44610445e-02, -5.01575128e-02, -7.88006318e-03,  2.09980519e-02,\n",
       "         4.27010391e-02, -5.64339400e-03, -1.72625385e-03,  2.02184871e-02,\n",
       "        -3.24782380e-03, -6.44563533e-03, -8.79321802e-03,  1.34835890e-02,\n",
       "         1.05706585e-02,  7.47090157e-03, -3.51469118e-02,  2.09946034e-02,\n",
       "        -2.34423829e-03, -1.50247876e-02,  4.49944371e-02, -4.12102684e-02,\n",
       "         4.17292845e-02,  2.69507165e-03, -7.73583987e-02, -3.63118041e-03,\n",
       "         3.27651554e-02, -9.98067084e-02,  6.28523949e-02,  9.59089452e-02,\n",
       "        -2.34235678e-01,  1.25009403e-01,  5.02398123e-02,  2.03018491e-02,\n",
       "         4.18221482e-03,  2.30520407e-03,  0.00000000e+00, -2.67841281e-02,\n",
       "        -1.13274154e-02,  1.13322364e-02,  4.12314578e-02,  4.84165299e-02,\n",
       "        -1.72275387e-01,  7.05641392e-02,  1.20589544e-02,  6.34740065e-02,\n",
       "        -4.55925858e-02,  2.39957034e-03, -2.02763678e-02,  2.62267356e-02,\n",
       "        -3.36262858e-01,  1.05055096e-01,  5.76475731e-02,  9.23559153e-02,\n",
       "        -3.80392705e-02,  9.29982987e-02,  1.83981010e-02, -5.66879600e-03,\n",
       "         1.74568965e-02,  2.94146921e-03, -4.56937858e-02,  1.25712364e-02,\n",
       "        -8.70788627e-02,  2.93607278e-02,  3.06995583e-02,  3.44152725e-02,\n",
       "         1.15990266e-02, -8.90586319e-03, -1.01259059e-02,  1.24520282e-01,\n",
       "         2.46311657e-02,  1.61870759e-01,  1.90551352e-01,  4.34632279e-02,\n",
       "        -1.96505382e-03,  4.72239530e-02,  5.64999015e-02,  8.47595620e-03,\n",
       "        -3.34812672e-04,  7.28048271e-02,  1.13792002e-01, -6.91005020e-02,\n",
       "        -5.83381426e-02,  4.62612488e-02,  0.00000000e+00, -7.85212308e-02,\n",
       "        -1.01231066e-01,  9.66948608e-02, -6.67527394e-02,  0.00000000e+00,\n",
       "         6.38828928e-02, -1.17953424e-02,  5.04700858e-02,  8.96419036e-02,\n",
       "         8.85950284e-02, -1.80643376e-01,  1.36388626e-02,  3.02647287e-02,\n",
       "        -1.34710748e-02,  0.00000000e+00, -1.34848300e-01, -1.02042946e-01,\n",
       "        -1.66337426e-02, -1.28754512e-02,  4.21662532e-02, -3.07016087e-02,\n",
       "         2.58700297e-02, -3.56564811e-02, -5.10888148e-02, -2.85477890e-02,\n",
       "        -4.54517710e-03, -3.87770297e-02, -5.90629996e-02, -7.72489182e-02,\n",
       "        -2.85112691e-02,  1.05679606e-04, -3.40497565e-02,  5.67368734e-02,\n",
       "        -4.80594297e-02,  5.58662633e-02, -5.63224572e-02,  5.82603599e-03,\n",
       "        -4.81274134e-02, -1.20419809e-02, -1.44533369e-02, -2.66828321e-02,\n",
       "        -2.00261864e-02, -2.24768441e-02, -4.34895689e-02,  4.75343621e-02,\n",
       "         3.39132120e-02,  1.23571350e-02, -3.66742425e-02,  1.65274364e-03,\n",
       "         8.05072919e-02,  1.47149435e-02, -2.47200950e-02, -7.08844134e-02,\n",
       "        -1.74817552e-02, -6.00608962e-02, -9.01202912e-02, -2.98471219e-02,\n",
       "         2.18345747e-02,  1.21208331e-02, -9.01403275e-03, -6.39682087e-02,\n",
       "        -2.20746369e-02, -3.59281773e-02, -8.89582655e-02,  3.49808634e-02,\n",
       "         2.01658991e-02,  2.43187535e-02,  4.49741352e-02,  4.03513037e-02,\n",
       "         5.05133153e-03,  1.95614380e-02,  3.95201690e-02, -5.15320528e-03,\n",
       "         1.83307768e-02,  9.69983877e-03, -4.22082204e-03,  9.22930834e-03,\n",
       "         6.96924286e-03,  6.53938638e-02,  8.75124400e-03,  1.58467377e-02,\n",
       "        -1.01197832e-02,  1.94233635e-03, -1.01197748e-02,  1.26807609e-02,\n",
       "        -4.49857448e-03,  4.22822496e-01, -1.46940522e-01, -1.42842549e-01,\n",
       "        -1.01191365e-02,  1.38283050e-02, -1.36729442e-01, -4.14093782e-01,\n",
       "         9.58811140e-02,  1.24739144e-01, -1.01199954e-02,  6.16793092e-02,\n",
       "         1.41903196e-01, -2.51110985e-02,  8.85510501e-03,  1.62612582e-02,\n",
       "        -7.11990988e-02, -3.35044295e-01, -1.00187679e-02,  4.16240107e-01,\n",
       "        -1.98248698e-02, -7.12991405e-02, -2.81356009e-03,  8.17813463e-02,\n",
       "         1.21612895e-02, -1.58516815e-02,  2.68994662e-01,  1.25283113e-02,\n",
       "        -1.94517436e-01, -9.65523249e-02,  9.84348591e-02, -7.44876277e-02,\n",
       "         3.17292061e-02, -3.02739048e-02, -3.69447335e-02, -2.98785191e-02,\n",
       "        -2.00796813e-02, -5.31718020e-02,  1.84309194e-02,  1.21646829e-01]))"
      ]
     },
     "execution_count": 171,
     "metadata": {},
     "output_type": "execute_result"
    }
   ],
   "source": [
    "w0, w = train_linear_regression(X_train, y_train)\n",
    "w0, w"
   ]
  },
  {
   "cell_type": "code",
   "execution_count": 172,
   "id": "696c75c7-db49-440d-b73d-b764bb5c9519",
   "metadata": {
    "colab": {
     "base_uri": "https://localhost:8080/"
    },
    "id": "696c75c7-db49-440d-b73d-b764bb5c9519",
    "outputId": "3eaec84a-7df7-4ec1-e71c-2ba2c4aa5d83"
   },
   "outputs": [
    {
     "name": "stdout",
     "output_type": "stream",
     "text": [
      "(292, 392)\n"
     ]
    }
   ],
   "source": [
    "X_val = prepare_X(df_val)\n",
    "print(X_val.shape)\n",
    "y_pred = w0 + X_val.dot(w)"
   ]
  },
  {
   "cell_type": "code",
   "execution_count": 173,
   "id": "156fcf3a-dbcc-4971-953e-07361629774e",
   "metadata": {
    "colab": {
     "base_uri": "https://localhost:8080/",
     "height": 448
    },
    "id": "156fcf3a-dbcc-4971-953e-07361629774e",
    "outputId": "da8eccdd-9f7d-4a68-e255-ea0e0d274ff8"
   },
   "outputs": [
    {
     "data": {
      "text/plain": [
       "<Axes: ylabel='Count'>"
      ]
     },
     "execution_count": 173,
     "metadata": {},
     "output_type": "execute_result"
    },
    {
     "data": {
      "image/png": "[encoded data removed]",
      "text/plain": [
       "<Figure size 640x480 with 1 Axes>"
      ]
     },
     "metadata": {},
     "output_type": "display_data"
    }
   ],
   "source": [
    "sns.histplot(y_pred, color='blue')\n",
    "sns.histplot(y_val, color='orange')"
   ]
  },
  {
   "cell_type": "code",
   "execution_count": 174,
   "id": "qTvD5WWd1esu",
   "metadata": {
    "id": "qTvD5WWd1esu"
   },
   "outputs": [],
   "source": [
    "y_pred_real = np.expm1(y_pred)\n",
    "y_val_real = np.expm1(y_val)"
   ]
  },
  {
   "cell_type": "code",
   "execution_count": 175,
   "id": "9U8jLYiI1mS4",
   "metadata": {
    "colab": {
     "base_uri": "https://localhost:8080/",
     "height": 448
    },
    "id": "9U8jLYiI1mS4",
    "outputId": "6ad67028-1ddb-4f01-da2d-593c2c8b2a76"
   },
   "outputs": [
    {
     "data": {
      "text/plain": [
       "<Axes: ylabel='Count'>"
      ]
     },
     "execution_count": 175,
     "metadata": {},
     "output_type": "execute_result"
    },
    {
     "data": {
      "image/png": "[encoded data removed]",
      "text/plain": [
       "<Figure size 640x480 with 1 Axes>"
      ]
     },
     "metadata": {},
     "output_type": "display_data"
    }
   ],
   "source": [
    "sns.histplot(y_pred_real, color='blue')\n",
    "sns.histplot(y_val_real, color='orange')"
   ]
  },
  {
   "cell_type": "code",
   "execution_count": 176,
   "id": "ZsrJRi0Sy1NN",
   "metadata": {
    "colab": {
     "base_uri": "https://localhost:8080/"
    },
    "id": "ZsrJRi0Sy1NN",
    "outputId": "f10bff7b-5182-4850-f35a-b3d46e674383"
   },
   "outputs": [
    {
     "data": {
      "text/plain": [
       "np.float64(1306.7521088548137)"
      ]
     },
     "execution_count": 176,
     "metadata": {},
     "output_type": "execute_result"
    }
   ],
   "source": [
    "rmse(y_val_real, y_pred_real)"
   ]
  },
  {
   "cell_type": "markdown",
   "id": "TyUNa_dEXaGe",
   "metadata": {
    "id": "TyUNa_dEXaGe"
   },
   "source": [
    "## Tuning the mode\n",
    "\n",
    "Para mejorar la eficiencia de la regresión se buscan diferentes `r` para que la suma de la diferencia de los errores al cuadrado sea mínima"
   ]
  },
  {
   "cell_type": "code",
   "execution_count": 177,
   "id": "QMBv7RTbXdps",
   "metadata": {
    "id": "QMBv7RTbXdps"
   },
   "outputs": [],
   "source": [
    "def tuning_model():\n",
    "    X_val = prepare_X(df_val)\n",
    "    y_val_real = np.expm1(y_val)\n",
    "    min_error = 1000000000\n",
    "    posibles_r = [10**i for i in range(-15, 15) if i != 0]\n",
    "    for i in posibles_r:\n",
    "        print(i)\n",
    "        w0, w = train_linear_regression(X_train, y_train, r=i)\n",
    "        y_pred = w0 + X_val.dot(w)\n",
    "        y_pred_real = np.expm1(y_pred)\n",
    "        error = rmse(y_val_real, y_pred_real)\n",
    "        if error < min_error:\n",
    "            min_error = error\n",
    "            best_r = i\n",
    "    return best_r"
   ]
  },
  {
   "cell_type": "code",
   "execution_count": 178,
   "id": "HIl9p1i9cCat",
   "metadata": {
    "colab": {
     "base_uri": "https://localhost:8080/"
    },
    "id": "HIl9p1i9cCat",
    "outputId": "c395b9ab-e5c8-4dde-cff2-984326f930ea"
   },
   "outputs": [
    {
     "name": "stdout",
     "output_type": "stream",
     "text": [
      "1e-15\n",
      "1e-14\n",
      "1e-13\n",
      "1e-12\n",
      "1e-11\n",
      "1e-10\n",
      "1e-09\n",
      "1e-08\n",
      "1e-07\n",
      "1e-06\n",
      "1e-05\n",
      "0.0001\n"
     ]
    },
    {
     "name": "stderr",
     "output_type": "stream",
     "text": [
      "/tmp/ipykernel_6862/2790998164.py:10: RuntimeWarning: overflow encountered in expm1\n",
      "  y_pred_real = np.expm1(y_pred)\n",
      "/tmp/ipykernel_6862/1330147675.py:4: RuntimeWarning: overflow encountered in scalar power\n",
      "  error += (y[i] - y_pred[i]) ** 2\n"
     ]
    },
    {
     "name": "stdout",
     "output_type": "stream",
     "text": [
      "0.001\n",
      "0.01\n",
      "0.1\n",
      "10\n",
      "100\n",
      "1000\n",
      "10000\n",
      "100000\n",
      "1000000\n",
      "10000000\n",
      "100000000\n",
      "1000000000\n",
      "10000000000\n",
      "100000000000\n",
      "1000000000000\n",
      "10000000000000\n",
      "100000000000000\n"
     ]
    },
    {
     "data": {
      "text/plain": [
       "10"
      ]
     },
     "execution_count": 178,
     "metadata": {},
     "output_type": "execute_result"
    }
   ],
   "source": [
    "best_r = tuning_model()\n",
    "best_r"
   ]
  },
  {
   "cell_type": "markdown",
   "id": "682d4a69-17e3-4191-91cb-eae897a442e5",
   "metadata": {},
   "source": [
    "## Entrenamiento y prueba del modelo\n",
    "\n",
    "Despues de hacer el tuning del modelo, "
   ]
  },
  {
   "cell_type": "markdown",
   "id": "6a243313-2128-4036-b40d-89f5d911c45d",
   "metadata": {},
   "source": [
    "Entrenamiento del modelo con el \"mejor\" `r`"
   ]
  },
  {
   "cell_type": "code",
   "execution_count": 179,
   "id": "j0I8nm0RcEqH",
   "metadata": {
    "colab": {
     "base_uri": "https://localhost:8080/"
    },
    "id": "j0I8nm0RcEqH",
    "outputId": "9c2cab3c-cc74-4960-a89b-f8bb3b3c6e93"
   },
   "outputs": [
    {
     "name": "stdout",
     "output_type": "stream",
     "text": [
      "RMSE: 1292.1159241315222\n",
      "MAPE: 10.049477978815172\n",
      "R-cuadrado, 0.9112384442594731\n"
     ]
    }
   ],
   "source": [
    "X_train = prepare_X(df_train)\n",
    "w0, w = train_linear_regression(X_train, y_train, r=best_r)"
   ]
  },
  {
   "cell_type": "markdown",
   "id": "823a47e0-b4c2-4067-9e9f-c176f732b784",
   "metadata": {},
   "source": [
    "prueba del modelo con el dataset df_val (enterior mente reservado para la validación)"
   ]
  },
  {
   "cell_type": "code",
   "execution_count": null,
   "id": "e5c61179-b73b-45b4-89fb-cc55d4e3e15d",
   "metadata": {},
   "outputs": [],
   "source": [
    "X_val = prepare_X(df_val)\n",
    "y_pred = w0 + X_val.dot(w)\n",
    "y_pred_real = np.expm1(y_pred)\n",
    "y_val_real = np.expm1(y_val)"
   ]
  },
  {
   "cell_type": "markdown",
   "id": "f8ec5bcd-9181-442b-a011-9c9b9addedac",
   "metadata": {},
   "source": [
    "validación de resultados"
   ]
  },
  {
   "cell_type": "code",
   "execution_count": null,
   "id": "51f2eeb7-faaa-4f90-9987-11ef5bce6b11",
   "metadata": {},
   "outputs": [],
   "source": [
    "print(f\"RMSE: {rmse(y_val_real, y_pred_real)}\")\n",
    "print(f\"MAPE: {mape(y_val_real, y_pred_real)}\")\n",
    "print(f\"R-cuadrado, {r2_score(y_val_real, y_pred_real)}\")"
   ]
  },
  {
   "cell_type": "code",
   "execution_count": 180,
   "id": "sh4rPxyE3vPD",
   "metadata": {
    "colab": {
     "base_uri": "https://localhost:8080/",
     "height": 448
    },
    "id": "sh4rPxyE3vPD",
    "outputId": "ab4b9d2c-250b-4b36-d21f-18f1b2b66b81"
   },
   "outputs": [
    {
     "data": {
      "text/plain": [
       "<Axes: ylabel='Count'>"
      ]
     },
     "execution_count": 180,
     "metadata": {},
     "output_type": "execute_result"
    },
    {
     "data": {
      "image/png": "[encoded data removed]",
      "text/plain": [
       "<Figure size 640x480 with 1 Axes>"
      ]
     },
     "metadata": {},
     "output_type": "display_data"
    }
   ],
   "source": [
    "sns.histplot(y_pred_real, color='blue')\n",
    "sns.histplot(y_val_real, color='orange')"
   ]
  },
  {
   "cell_type": "markdown",
   "id": "0d63b1fd-ce82-4c63-9cb1-8d15d6f31d5c",
   "metadata": {},
   "source": [
    "prueba del modelo con el dataset df_test (enterior mente reservado para el testeo) *se \"verifica\" que no es suerte el ajuste*"
   ]
  },
  {
   "cell_type": "code",
   "execution_count": 181,
   "id": "E8N37rLi5M-0",
   "metadata": {
    "colab": {
     "base_uri": "https://localhost:8080/"
    },
    "id": "E8N37rLi5M-0",
    "outputId": "543d208a-99ee-4cce-c9ef-21154ba4d7a6"
   },
   "outputs": [
    {
     "name": "stdout",
     "output_type": "stream",
     "text": [
      "RMSE: 1343.1984348015444\n",
      "MAPE: 8.477920413968695\n",
      "R-cuadrado, 0.903078282015179\n"
     ]
    }
   ],
   "source": [
    "X_test = prepare_X(df_test)\n",
    "y_pred = w0 + X_test.dot(w)\n",
    "y_pred_real = np.expm1(y_pred)\n",
    "y_test_real = np.expm1(y_test)"
   ]
  },
  {
   "cell_type": "markdown",
   "id": "a11cc80d-f3c1-48b7-a258-0276c17fefd9",
   "metadata": {},
   "source": [
    "validación del modelo"
   ]
  },
  {
   "cell_type": "code",
   "execution_count": null,
   "id": "d433146a-bba6-484e-a516-88c89abedd1b",
   "metadata": {},
   "outputs": [],
   "source": [
    "print(f\"RMSE: {rmse(y_test_real, y_pred_real)}\")\n",
    "print(f\"MAPE: {mape(y_test_real, y_pred_real)}\")\n",
    "print(f\"R-cuadrado, {r2_score(y_test_real, y_pred_real)}\")"
   ]
  },
  {
   "cell_type": "code",
   "execution_count": 182,
   "id": "xd3x7bAS5efC",
   "metadata": {
    "colab": {
     "base_uri": "https://localhost:8080/",
     "height": 448
    },
    "id": "xd3x7bAS5efC",
    "outputId": "b030a8a2-6e61-4a7b-c798-fc7baa6a952d"
   },
   "outputs": [
    {
     "data": {
      "text/plain": [
       "<Axes: ylabel='Count'>"
      ]
     },
     "execution_count": 182,
     "metadata": {},
     "output_type": "execute_result"
    },
    {
     "data": {
      "image/png": "[encoded data removed]",
      "text/plain": [
       "<Figure size 640x480 with 1 Axes>"
      ]
     },
     "metadata": {},
     "output_type": "display_data"
    }
   ],
   "source": [
    "sns.histplot(y_pred_real, color='blue')\n",
    "sns.histplot(y_test_real, color='orange')\n",
    "#"
   ]
  },
  {
   "cell_type": "code",
   "execution_count": null,
   "id": "NVIps4gV5gyt",
   "metadata": {
    "id": "NVIps4gV5gyt"
   },
   "outputs": [],
   "source": []
  }
 ],
 "metadata": {
  "colab": {
   "provenance": []
  },
  "kernelspec": {
   "display_name": "machine_learning",
   "language": "python",
   "name": "env_machine_learning"
  },
  "language_info": {
   "codemirror_mode": {
    "name": "ipython",
    "version": 3
   },
   "file_extension": ".py",
   "mimetype": "text/x-python",
   "name": "python",
   "nbconvert_exporter": "python",
   "pygments_lexer": "ipython3",
   "version": "3.12.3"
  }
 },
 "nbformat": 4,
 "nbformat_minor": 5
}
